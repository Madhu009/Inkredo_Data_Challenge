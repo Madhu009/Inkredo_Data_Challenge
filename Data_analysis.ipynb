{
 "cells": [
  {
   "cell_type": "code",
   "execution_count": 1,
   "metadata": {
    "collapsed": false,
    "scrolled": true
   },
   "outputs": [
    {
     "data": {
      "text/html": [
       "<div>\n",
       "<style>\n",
       "    .dataframe thead tr:only-child th {\n",
       "        text-align: right;\n",
       "    }\n",
       "\n",
       "    .dataframe thead th {\n",
       "        text-align: left;\n",
       "    }\n",
       "\n",
       "    .dataframe tbody tr th {\n",
       "        vertical-align: top;\n",
       "    }\n",
       "</style>\n",
       "<table border=\"1\" class=\"dataframe\">\n",
       "  <thead>\n",
       "    <tr style=\"text-align: right;\">\n",
       "      <th></th>\n",
       "      <th>uuid</th>\n",
       "      <th>timestamp</th>\n",
       "      <th>session_id</th>\n",
       "      <th>group</th>\n",
       "      <th>action</th>\n",
       "      <th>checkin</th>\n",
       "      <th>page_id</th>\n",
       "      <th>n_results</th>\n",
       "      <th>result_position</th>\n",
       "    </tr>\n",
       "  </thead>\n",
       "  <tbody>\n",
       "    <tr>\n",
       "      <th>0</th>\n",
       "      <td>00000736167c507e8ec225bd9e71f9e5</td>\n",
       "      <td>2.016030e+13</td>\n",
       "      <td>78245c2c3fba013a</td>\n",
       "      <td>b</td>\n",
       "      <td>searchResultPage</td>\n",
       "      <td>NaN</td>\n",
       "      <td>cbeb66d1bc1f1bc2</td>\n",
       "      <td>5.0</td>\n",
       "      <td>NaN</td>\n",
       "    </tr>\n",
       "    <tr>\n",
       "      <th>1</th>\n",
       "      <td>00000c69fe345268935463abbfa5d5b3</td>\n",
       "      <td>2.016031e+13</td>\n",
       "      <td>c559c3be98dca8a4</td>\n",
       "      <td>a</td>\n",
       "      <td>searchResultPage</td>\n",
       "      <td>NaN</td>\n",
       "      <td>eb658e8722aad674</td>\n",
       "      <td>10.0</td>\n",
       "      <td>NaN</td>\n",
       "    </tr>\n",
       "    <tr>\n",
       "      <th>2</th>\n",
       "      <td>00003bfdab715ee59077a3670331b787</td>\n",
       "      <td>2.016030e+13</td>\n",
       "      <td>760bf89817ce4b08</td>\n",
       "      <td>a</td>\n",
       "      <td>checkin</td>\n",
       "      <td>30.0</td>\n",
       "      <td>f99a9fc1f7fdd21e</td>\n",
       "      <td>NaN</td>\n",
       "      <td>NaN</td>\n",
       "    </tr>\n",
       "    <tr>\n",
       "      <th>3</th>\n",
       "      <td>0000465cd7c35ad2bdeafec953e08c1a</td>\n",
       "      <td>2.016030e+13</td>\n",
       "      <td>fb905603d31b2071</td>\n",
       "      <td>a</td>\n",
       "      <td>checkin</td>\n",
       "      <td>60.0</td>\n",
       "      <td>e5626962a6939a75</td>\n",
       "      <td>NaN</td>\n",
       "      <td>10.0</td>\n",
       "    </tr>\n",
       "    <tr>\n",
       "      <th>4</th>\n",
       "      <td>000050cbb4ef5b42b16c4d2cf69e6358</td>\n",
       "      <td>2.016030e+13</td>\n",
       "      <td>c2bf5e5172a892dc</td>\n",
       "      <td>a</td>\n",
       "      <td>checkin</td>\n",
       "      <td>30.0</td>\n",
       "      <td>787dd6a4c371cbf9</td>\n",
       "      <td>NaN</td>\n",
       "      <td>NaN</td>\n",
       "    </tr>\n",
       "  </tbody>\n",
       "</table>\n",
       "</div>"
      ],
      "text/plain": [
       "                               uuid     timestamp        session_id group  \\\n",
       "0  00000736167c507e8ec225bd9e71f9e5  2.016030e+13  78245c2c3fba013a     b   \n",
       "1  00000c69fe345268935463abbfa5d5b3  2.016031e+13  c559c3be98dca8a4     a   \n",
       "2  00003bfdab715ee59077a3670331b787  2.016030e+13  760bf89817ce4b08     a   \n",
       "3  0000465cd7c35ad2bdeafec953e08c1a  2.016030e+13  fb905603d31b2071     a   \n",
       "4  000050cbb4ef5b42b16c4d2cf69e6358  2.016030e+13  c2bf5e5172a892dc     a   \n",
       "\n",
       "             action  checkin           page_id  n_results  result_position  \n",
       "0  searchResultPage      NaN  cbeb66d1bc1f1bc2        5.0              NaN  \n",
       "1  searchResultPage      NaN  eb658e8722aad674       10.0              NaN  \n",
       "2           checkin     30.0  f99a9fc1f7fdd21e        NaN              NaN  \n",
       "3           checkin     60.0  e5626962a6939a75        NaN             10.0  \n",
       "4           checkin     30.0  787dd6a4c371cbf9        NaN              NaN  "
      ]
     },
     "execution_count": 1,
     "metadata": {},
     "output_type": "execute_result"
    }
   ],
   "source": [
    "# loading the data \n",
    "\n",
    "import pandas as pd\n",
    "import matplotlib.pyplot as plt\n",
    "import seaborn as sns\n",
    "import numpy as np\n",
    "\n",
    "data =pd.read_csv('events_log.csv')\n",
    "data.head()"
   ]
  },
  {
   "cell_type": "code",
   "execution_count": 2,
   "metadata": {
    "collapsed": false
   },
   "outputs": [
    {
     "data": {
      "text/plain": [
       "0   2016-03-01 10:38:42\n",
       "1   2016-03-07 00:52:26\n",
       "2   2016-03-02 14:53:05\n",
       "3   2016-03-02 22:27:01\n",
       "Name: timestamp, dtype: datetime64[ns]"
      ]
     },
     "execution_count": 2,
     "metadata": {},
     "output_type": "execute_result"
    }
   ],
   "source": [
    "#Coverting the timestamp to panda datetime\n",
    "data['timestamp'] = data['timestamp'].apply(lambda x: '{:.2f}'.format(x))\n",
    "data.timestamp = pd.Series(data.timestamp).str.replace(r'\\.00', '').str.strip()\n",
    "data['timestamp']=pd.to_datetime(data['timestamp'])\n",
    "data.timestamp[:4]"
   ]
  },
  {
   "cell_type": "code",
   "execution_count": 3,
   "metadata": {
    "collapsed": true
   },
   "outputs": [],
   "source": [
    "# for labeling in plotting\n",
    "def autolabel(rects):\n",
    "    for rect in rects:\n",
    "        height = rect.get_height()\n",
    "        ax.text(rect.get_x() + rect.get_width()/2., 1.02*height,\n",
    "                '%d' % int(height),\n",
    "                ha='center', va='bottom')"
   ]
  },
  {
   "cell_type": "markdown",
   "metadata": {},
   "source": [
    "### What is their overall clickthrough rate?"
   ]
  },
  {
   "cell_type": "code",
   "execution_count": 4,
   "metadata": {
    "collapsed": false
   },
   "outputs": [
    {
     "data": {
      "text/plain": [
       "['checkin', 'searchResultPage', 'visitPage']"
      ]
     },
     "execution_count": 4,
     "metadata": {},
     "output_type": "execute_result"
    }
   ],
   "source": [
    "actions=sorted(data.action.unique())\n",
    "actions"
   ]
  },
  {
   "cell_type": "code",
   "execution_count": 5,
   "metadata": {
    "collapsed": false
   },
   "outputs": [
    {
     "data": {
      "text/plain": [
       "12.806931952929043"
      ]
     },
     "execution_count": 5,
     "metadata": {},
     "output_type": "execute_result"
    }
   ],
   "source": [
    "total_visit_result=data.loc[data['action'] != 'searchResultPage'] #every checkin is a visit \n",
    "total_visit_result=total_visit_result.fillna(0) #filling NaN as 0\n",
    "total_visit_result=total_visit_result.loc[total_visit_result['result_position'] != 0] #ignore Nan\n",
    "\n",
    "total_search_result=data.loc[data['action'] == 'searchResultPage']\n",
    "total_search_result=total_search_result.n_results.sum()\n",
    "\n",
    "len(total_visit_result)/total_search_result*100"
   ]
  },
  {
   "cell_type": "markdown",
   "metadata": {},
   "source": [
    "12.8 % is the total clickthough rate for all results"
   ]
  },
  {
   "cell_type": "markdown",
   "metadata": {},
   "source": [
    "### Daily overall clickthrough rate"
   ]
  },
  {
   "cell_type": "code",
   "execution_count": 6,
   "metadata": {
    "collapsed": false
   },
   "outputs": [
    {
     "data": {
      "text/html": [
       "<div>\n",
       "<style>\n",
       "    .dataframe thead tr:only-child th {\n",
       "        text-align: right;\n",
       "    }\n",
       "\n",
       "    .dataframe thead th {\n",
       "        text-align: left;\n",
       "    }\n",
       "\n",
       "    .dataframe tbody tr th {\n",
       "        vertical-align: top;\n",
       "    }\n",
       "</style>\n",
       "<table border=\"1\" class=\"dataframe\">\n",
       "  <thead>\n",
       "    <tr style=\"text-align: right;\">\n",
       "      <th></th>\n",
       "      <th>uuid</th>\n",
       "      <th>timestamp</th>\n",
       "      <th>session_id</th>\n",
       "      <th>group</th>\n",
       "      <th>action</th>\n",
       "      <th>checkin</th>\n",
       "      <th>page_id</th>\n",
       "      <th>n_results</th>\n",
       "      <th>result_position</th>\n",
       "    </tr>\n",
       "  </thead>\n",
       "  <tbody>\n",
       "    <tr>\n",
       "      <th>3</th>\n",
       "      <td>0000465cd7c35ad2bdeafec953e08c1a</td>\n",
       "      <td>2016-03-02 22:27:01</td>\n",
       "      <td>fb905603d31b2071</td>\n",
       "      <td>a</td>\n",
       "      <td>checkin</td>\n",
       "      <td>60.0</td>\n",
       "      <td>e5626962a6939a75</td>\n",
       "      <td>0.0</td>\n",
       "      <td>10.0</td>\n",
       "    </tr>\n",
       "    <tr>\n",
       "      <th>8</th>\n",
       "      <td>00012e37b74c59a8911514c894402406</td>\n",
       "      <td>2016-03-03 11:32:55</td>\n",
       "      <td>91174a537d79a0c7</td>\n",
       "      <td>a</td>\n",
       "      <td>checkin</td>\n",
       "      <td>180.0</td>\n",
       "      <td>dfdff179047ea086</td>\n",
       "      <td>0.0</td>\n",
       "      <td>1.0</td>\n",
       "    </tr>\n",
       "    <tr>\n",
       "      <th>9</th>\n",
       "      <td>000145fbe6915c7c8acb3a43537ad048</td>\n",
       "      <td>2016-03-03 22:33:53</td>\n",
       "      <td>a795756dbad3f61f</td>\n",
       "      <td>b</td>\n",
       "      <td>checkin</td>\n",
       "      <td>150.0</td>\n",
       "      <td>ec0bad0075f48b43</td>\n",
       "      <td>0.0</td>\n",
       "      <td>1.0</td>\n",
       "    </tr>\n",
       "    <tr>\n",
       "      <th>11</th>\n",
       "      <td>0001885d490057dc95294a5bafc7ad50</td>\n",
       "      <td>2016-03-03 13:38:18</td>\n",
       "      <td>e8391bf94cb3a61d</td>\n",
       "      <td>b</td>\n",
       "      <td>checkin</td>\n",
       "      <td>30.0</td>\n",
       "      <td>db5c1b8998d12efc</td>\n",
       "      <td>0.0</td>\n",
       "      <td>1.0</td>\n",
       "    </tr>\n",
       "    <tr>\n",
       "      <th>13</th>\n",
       "      <td>0001e65d9b7251f5832c1cb755828945</td>\n",
       "      <td>2016-03-08 17:26:37</td>\n",
       "      <td>09a1a7b7e0a8baf9</td>\n",
       "      <td>a</td>\n",
       "      <td>checkin</td>\n",
       "      <td>10.0</td>\n",
       "      <td>c45598e7c5fd0e77</td>\n",
       "      <td>0.0</td>\n",
       "      <td>1.0</td>\n",
       "    </tr>\n",
       "  </tbody>\n",
       "</table>\n",
       "</div>"
      ],
      "text/plain": [
       "                                uuid           timestamp        session_id  \\\n",
       "3   0000465cd7c35ad2bdeafec953e08c1a 2016-03-02 22:27:01  fb905603d31b2071   \n",
       "8   00012e37b74c59a8911514c894402406 2016-03-03 11:32:55  91174a537d79a0c7   \n",
       "9   000145fbe6915c7c8acb3a43537ad048 2016-03-03 22:33:53  a795756dbad3f61f   \n",
       "11  0001885d490057dc95294a5bafc7ad50 2016-03-03 13:38:18  e8391bf94cb3a61d   \n",
       "13  0001e65d9b7251f5832c1cb755828945 2016-03-08 17:26:37  09a1a7b7e0a8baf9   \n",
       "\n",
       "   group   action  checkin           page_id  n_results  result_position  \n",
       "3      a  checkin     60.0  e5626962a6939a75        0.0             10.0  \n",
       "8      a  checkin    180.0  dfdff179047ea086        0.0              1.0  \n",
       "9      b  checkin    150.0  ec0bad0075f48b43        0.0              1.0  \n",
       "11     b  checkin     30.0  db5c1b8998d12efc        0.0              1.0  \n",
       "13     a  checkin     10.0  c45598e7c5fd0e77        0.0              1.0  "
      ]
     },
     "execution_count": 6,
     "metadata": {},
     "output_type": "execute_result"
    }
   ],
   "source": [
    "total_visit_result[:5]"
   ]
  },
  {
   "cell_type": "code",
   "execution_count": 7,
   "metadata": {
    "collapsed": false
   },
   "outputs": [],
   "source": [
    "days=sorted(total_visit_result.timestamp.dt.day.unique())\n",
    "days_array=[]\n",
    "for day in days:\n",
    "    d=[day]\n",
    "    days_visited_results=total_visit_result.loc[total_visit_result.timestamp.dt.day == day]\n",
    "    d.append(days_visited_results.uuid.count())\n",
    "    days_array.append(d)"
   ]
  },
  {
   "cell_type": "code",
   "execution_count": 8,
   "metadata": {
    "collapsed": false
   },
   "outputs": [
    {
     "name": "stdout",
     "output_type": "stream",
     "text": [
      "[1, 2, 3, 4, 5, 6, 7, 8]\n",
      "[28980, 29777, 31662, 29067, 23037, 26580, 33547, 27832]\n"
     ]
    }
   ],
   "source": [
    "labels=[]\n",
    "values=[]\n",
    "for i in days_array:\n",
    "    labels.append(i[0])\n",
    "    values.append(i[1])\n",
    "print(labels)\n",
    "print(values)"
   ]
  },
  {
   "cell_type": "code",
   "execution_count": 9,
   "metadata": {
    "collapsed": false
   },
   "outputs": [
    {
     "data": {
      "image/png": "[encoded data removed]",
      "text/plain": [
       "<matplotlib.figure.Figure at 0x1f5c874e550>"
      ]
     },
     "metadata": {},
     "output_type": "display_data"
    },
    {
     "name": "stdout",
     "output_type": "stream",
     "text": [
      "230482\n"
     ]
    }
   ],
   "source": [
    "labels=np.array(labels)\n",
    "values=np.array(values)\n",
    "ind=np.arange(len(labels))\n",
    "\n",
    "fig,ax=plt.subplots()\n",
    "rects=ax.bar(ind,values,color='g')\n",
    "ax.set_xticklabels(labels)\n",
    "ax.set_xticks(ind)\n",
    "ax.set_ylabel(\"Count\")\n",
    "ax.set_xlabel(\"Days\")\n",
    "ax.set_title(\"Daily overal results count\")\n",
    "autolabel(rects)\n",
    "plt.show()\n",
    "print(len(total_visit_result))\n"
   ]
  },
  {
   "cell_type": "markdown",
   "metadata": {},
   "source": [
    "total of  visited results = 230482\n",
    "\n",
    "Applicable from 2016-03-1 to 2016-03-8 "
   ]
  },
  {
   "cell_type": "markdown",
   "metadata": {},
   "source": [
    "### How does it vary between the groups?"
   ]
  },
  {
   "cell_type": "code",
   "execution_count": 10,
   "metadata": {
    "collapsed": false
   },
   "outputs": [
    {
     "data": {
      "text/plain": [
       "['a', 'b']"
      ]
     },
     "execution_count": 10,
     "metadata": {},
     "output_type": "execute_result"
    }
   ],
   "source": [
    "groups=sorted(total_visit_result.group.unique())\n",
    "groups"
   ]
  },
  {
   "cell_type": "code",
   "execution_count": 11,
   "metadata": {
    "collapsed": false
   },
   "outputs": [
    {
     "name": "stdout",
     "output_type": "stream",
     "text": [
      "['a', 'b']\n",
      "[a    174075\n",
      "Name: group, dtype: int64, b    56407\n",
      "Name: group, dtype: int64]\n"
     ]
    },
    {
     "data": {
      "image/png": "[encoded data removed]",
      "text/plain": [
       "<matplotlib.figure.Figure at 0x1f5c9b15ba8>"
      ]
     },
     "metadata": {},
     "output_type": "display_data"
    },
    {
     "name": "stdout",
     "output_type": "stream",
     "text": [
      "230482\n"
     ]
    }
   ],
   "source": [
    "groups_array=[]\n",
    "for grp in groups:\n",
    "    d=[grp]\n",
    "    group_results=total_visit_result.loc[total_visit_result.group == grp]\n",
    "    d.append(group_results.group.value_counts())\n",
    "    groups_array.append(d)\n",
    "    \n",
    "labels=[]\n",
    "values=[]\n",
    "for i in groups_array:\n",
    "    labels.append(i[0])\n",
    "    values.append(i[1])\n",
    "print(labels)\n",
    "print(values)\n",
    "\n",
    "labels=np.array(labels)\n",
    "values=np.array(values)\n",
    "ind=np.arange(len(labels))\n",
    "\n",
    "fig,ax=plt.subplots()\n",
    "rects=ax.bar(ind,values,color='g')\n",
    "ax.set_xticklabels(labels)\n",
    "ax.set_xticks(ind)\n",
    "ax.set_ylabel(\"Count\")\n",
    "ax.set_xlabel(\"groups\")\n",
    "ax.set_title(\"visited results count\")\n",
    "autolabel(rects)\n",
    "plt.show()\n",
    "print(len(total_visit_result))\n"
   ]
  },
  {
   "cell_type": "markdown",
   "metadata": {},
   "source": [
    "total of  visited results = 230482"
   ]
  },
  {
   "cell_type": "code",
   "execution_count": 12,
   "metadata": {
    "collapsed": true
   },
   "outputs": [],
   "source": [
    "#End 1"
   ]
  },
  {
   "cell_type": "markdown",
   "metadata": {},
   "source": [
    "### Which results do people tend to try first"
   ]
  },
  {
   "cell_type": "code",
   "execution_count": 13,
   "metadata": {
    "collapsed": false
   },
   "outputs": [
    {
     "data": {
      "image/png": "[encoded data removed]",
      "text/plain": [
       "<matplotlib.figure.Figure at 0x1f5d569b710>"
      ]
     },
     "metadata": {},
     "output_type": "display_data"
    }
   ],
   "source": [
    "#getting most count result position plotting\n",
    "\n",
    "rp=data.result_position.value_counts()[:5]\n",
    "labels=np.array(rp.keys())\n",
    "values=np.array(rp)\n",
    "ind=np.arange(len(labels))\n",
    "\n",
    "fig,ax=plt.subplots()\n",
    "rects=ax.bar(ind,values,color='g')\n",
    "ax.set_xticklabels(labels,rotation='vertical')\n",
    "ax.set_xticks(ind)\n",
    "ax.set_ylabel(\"Count\")\n",
    "ax.set_title(\"Top Results viewed at index \")\n",
    "autolabel(rects)\n",
    "plt.show()"
   ]
  },
  {
   "cell_type": "code",
   "execution_count": 14,
   "metadata": {
    "collapsed": false
   },
   "outputs": [
    {
     "name": "stdout",
     "output_type": "stream",
     "text": [
      "ffeae9d12ad83b25    24\n",
      "5776ccc6144ff777    20\n",
      "6ea77e97a39691d2    19\n",
      "6151bd29e99dae15    19\n",
      "734d2c014765c501    17\n",
      "Name: page_id, dtype: int64\n"
     ]
    },
    {
     "data": {
      "image/png": "[encoded data removed]",
      "text/plain": [
       "<matplotlib.figure.Figure at 0x1f5ca1f84a8>"
      ]
     },
     "metadata": {},
     "output_type": "display_data"
    }
   ],
   "source": [
    "#top pages viewed at index 1\n",
    "index1_pages=data.loc[data['result_position'] == 1]\n",
    "\n",
    "tp=index1_pages.page_id.value_counts()[:5]\n",
    "print(tp)\n",
    "labels=np.array(tp.keys())\n",
    "values=np.array(tp)\n",
    "ind=np.arange(len(labels))\n",
    "\n",
    "fig,ax=plt.subplots()\n",
    "rects=ax.bar(ind,values,color='g')\n",
    "ax.set_xticklabels(labels,rotation='vertical')\n",
    "ax.set_xticks(ind)\n",
    "ax.set_ylabel(\"Count\")\n",
    "ax.set_title(\"Top pages viewed at index 1\")\n",
    "autolabel(rects)\n",
    "plt.show()"
   ]
  },
  {
   "cell_type": "markdown",
   "metadata": {},
   "source": [
    "People tend to try first these pages "
   ]
  },
  {
   "cell_type": "markdown",
   "metadata": {},
   "source": [
    "### How does it change day-to-day"
   ]
  },
  {
   "cell_type": "code",
   "execution_count": 15,
   "metadata": {
    "collapsed": false
   },
   "outputs": [
    {
     "data": {
      "text/plain": [
       "8    2016-03-03 11:32:55\n",
       "9    2016-03-03 22:33:53\n",
       "11   2016-03-03 13:38:18\n",
       "13   2016-03-08 17:26:37\n",
       "14   2016-03-01 15:45:25\n",
       "Name: timestamp, dtype: datetime64[ns]"
      ]
     },
     "execution_count": 15,
     "metadata": {},
     "output_type": "execute_result"
    }
   ],
   "source": [
    "index1_pages.timestamp[:5]"
   ]
  },
  {
   "cell_type": "code",
   "execution_count": 16,
   "metadata": {
    "collapsed": false
   },
   "outputs": [
    {
     "data": {
      "text/plain": [
       "[1, 2, 3, 4, 5, 6, 7, 8]"
      ]
     },
     "execution_count": 16,
     "metadata": {},
     "output_type": "execute_result"
    }
   ],
   "source": [
    "days=sorted(index1_pages.timestamp.dt.day.unique())\n",
    "days"
   ]
  },
  {
   "cell_type": "markdown",
   "metadata": {},
   "source": [
    "So we can say from day 1 to day 8 ,people access the more pages which are at index 1 (result position 1 being top count)"
   ]
  },
  {
   "cell_type": "code",
   "execution_count": 17,
   "metadata": {
    "collapsed": false
   },
   "outputs": [
    {
     "name": "stdout",
     "output_type": "stream",
     "text": [
      "[1, 2, 3, 4, 5, 6, 7, 8]\n",
      "[18880, 19535, 20508, 19230, 14780, 17004, 21392, 18025]\n"
     ]
    },
    {
     "data": {
      "image/png": "[encoded data removed]",
      "text/plain": [
       "<matplotlib.figure.Figure at 0x1f5caaeaeb8>"
      ]
     },
     "metadata": {},
     "output_type": "display_data"
    }
   ],
   "source": [
    "#plotting\n",
    "\n",
    "days_array=[]\n",
    "for day in days:\n",
    "    d=[day]\n",
    "    days_hits=index1_pages.loc[index1_pages.timestamp.dt.day == day]\n",
    "    d.append(days_hits.result_position.value_counts())\n",
    "    days_array.append(d)\n",
    "labels=[]\n",
    "values=[]\n",
    "for i in days_array:\n",
    "    labels.append(i[0])\n",
    "    values.append(i[1][1])\n",
    "print(labels)\n",
    "print(values)\n",
    "\n",
    "labels=np.array(labels)\n",
    "values=np.array(values)\n",
    "ind=np.arange(len(labels))\n",
    "\n",
    "fig,ax=plt.subplots()\n",
    "rects=ax.bar(ind,values,color='g')\n",
    "ax.set_xticklabels(labels)\n",
    "ax.set_xticks(ind)\n",
    "ax.set_ylabel(\"Count\")\n",
    "ax.set_xlabel(\"Days\")\n",
    "autolabel(rects)\n",
    "plt.show()"
   ]
  },
  {
   "cell_type": "markdown",
   "metadata": {},
   "source": [
    "So we can see here everyday how many people visit the pages at index 1 (result pages)\n",
    "it goes high and low \n",
    "\n",
    "Applicable for 2016-03 "
   ]
  },
  {
   "cell_type": "code",
   "execution_count": 18,
   "metadata": {
    "collapsed": true
   },
   "outputs": [],
   "source": [
    "#End 2"
   ]
  },
  {
   "cell_type": "code",
   "execution_count": 19,
   "metadata": {
    "collapsed": false
   },
   "outputs": [
    {
     "data": {
      "text/html": [
       "<div>\n",
       "<style>\n",
       "    .dataframe thead tr:only-child th {\n",
       "        text-align: right;\n",
       "    }\n",
       "\n",
       "    .dataframe thead th {\n",
       "        text-align: left;\n",
       "    }\n",
       "\n",
       "    .dataframe tbody tr th {\n",
       "        vertical-align: top;\n",
       "    }\n",
       "</style>\n",
       "<table border=\"1\" class=\"dataframe\">\n",
       "  <thead>\n",
       "    <tr style=\"text-align: right;\">\n",
       "      <th></th>\n",
       "      <th>uuid</th>\n",
       "      <th>timestamp</th>\n",
       "      <th>session_id</th>\n",
       "      <th>group</th>\n",
       "      <th>action</th>\n",
       "      <th>checkin</th>\n",
       "      <th>page_id</th>\n",
       "      <th>n_results</th>\n",
       "      <th>result_position</th>\n",
       "    </tr>\n",
       "  </thead>\n",
       "  <tbody>\n",
       "    <tr>\n",
       "      <th>0</th>\n",
       "      <td>00000736167c507e8ec225bd9e71f9e5</td>\n",
       "      <td>2016-03-01 10:38:42</td>\n",
       "      <td>78245c2c3fba013a</td>\n",
       "      <td>b</td>\n",
       "      <td>searchResultPage</td>\n",
       "      <td>NaN</td>\n",
       "      <td>cbeb66d1bc1f1bc2</td>\n",
       "      <td>5.0</td>\n",
       "      <td>NaN</td>\n",
       "    </tr>\n",
       "    <tr>\n",
       "      <th>1</th>\n",
       "      <td>00000c69fe345268935463abbfa5d5b3</td>\n",
       "      <td>2016-03-07 00:52:26</td>\n",
       "      <td>c559c3be98dca8a4</td>\n",
       "      <td>a</td>\n",
       "      <td>searchResultPage</td>\n",
       "      <td>NaN</td>\n",
       "      <td>eb658e8722aad674</td>\n",
       "      <td>10.0</td>\n",
       "      <td>NaN</td>\n",
       "    </tr>\n",
       "    <tr>\n",
       "      <th>2</th>\n",
       "      <td>00003bfdab715ee59077a3670331b787</td>\n",
       "      <td>2016-03-02 14:53:05</td>\n",
       "      <td>760bf89817ce4b08</td>\n",
       "      <td>a</td>\n",
       "      <td>checkin</td>\n",
       "      <td>30.0</td>\n",
       "      <td>f99a9fc1f7fdd21e</td>\n",
       "      <td>NaN</td>\n",
       "      <td>NaN</td>\n",
       "    </tr>\n",
       "    <tr>\n",
       "      <th>3</th>\n",
       "      <td>0000465cd7c35ad2bdeafec953e08c1a</td>\n",
       "      <td>2016-03-02 22:27:01</td>\n",
       "      <td>fb905603d31b2071</td>\n",
       "      <td>a</td>\n",
       "      <td>checkin</td>\n",
       "      <td>60.0</td>\n",
       "      <td>e5626962a6939a75</td>\n",
       "      <td>NaN</td>\n",
       "      <td>10.0</td>\n",
       "    </tr>\n",
       "    <tr>\n",
       "      <th>4</th>\n",
       "      <td>000050cbb4ef5b42b16c4d2cf69e6358</td>\n",
       "      <td>2016-03-02 09:50:23</td>\n",
       "      <td>c2bf5e5172a892dc</td>\n",
       "      <td>a</td>\n",
       "      <td>checkin</td>\n",
       "      <td>30.0</td>\n",
       "      <td>787dd6a4c371cbf9</td>\n",
       "      <td>NaN</td>\n",
       "      <td>NaN</td>\n",
       "    </tr>\n",
       "  </tbody>\n",
       "</table>\n",
       "</div>"
      ],
      "text/plain": [
       "                               uuid           timestamp        session_id  \\\n",
       "0  00000736167c507e8ec225bd9e71f9e5 2016-03-01 10:38:42  78245c2c3fba013a   \n",
       "1  00000c69fe345268935463abbfa5d5b3 2016-03-07 00:52:26  c559c3be98dca8a4   \n",
       "2  00003bfdab715ee59077a3670331b787 2016-03-02 14:53:05  760bf89817ce4b08   \n",
       "3  0000465cd7c35ad2bdeafec953e08c1a 2016-03-02 22:27:01  fb905603d31b2071   \n",
       "4  000050cbb4ef5b42b16c4d2cf69e6358 2016-03-02 09:50:23  c2bf5e5172a892dc   \n",
       "\n",
       "  group            action  checkin           page_id  n_results  \\\n",
       "0     b  searchResultPage      NaN  cbeb66d1bc1f1bc2        5.0   \n",
       "1     a  searchResultPage      NaN  eb658e8722aad674       10.0   \n",
       "2     a           checkin     30.0  f99a9fc1f7fdd21e        NaN   \n",
       "3     a           checkin     60.0  e5626962a6939a75        NaN   \n",
       "4     a           checkin     30.0  787dd6a4c371cbf9        NaN   \n",
       "\n",
       "   result_position  \n",
       "0              NaN  \n",
       "1              NaN  \n",
       "2              NaN  \n",
       "3             10.0  \n",
       "4              NaN  "
      ]
     },
     "execution_count": 19,
     "metadata": {},
     "output_type": "execute_result"
    }
   ],
   "source": [
    "data[:5]"
   ]
  },
  {
   "cell_type": "markdown",
   "metadata": {},
   "source": [
    "### What is their daily overall zero results rate? "
   ]
  },
  {
   "cell_type": "markdown",
   "metadata": {},
   "source": [
    "if no of pages returned none for user which means zero results \n",
    "\n",
    "what are total zero results and everyday's results"
   ]
  },
  {
   "cell_type": "code",
   "execution_count": 20,
   "metadata": {
    "collapsed": false
   },
   "outputs": [
    {
     "data": {
      "text/plain": [
       "18.4440007633924"
      ]
     },
     "execution_count": 20,
     "metadata": {},
     "output_type": "execute_result"
    }
   ],
   "source": [
    "zero_results=data.loc[data['n_results'] == 0]\n",
    "total_search_result=data.loc[data['action'] == 'searchResultPage']\n",
    "(len(zero_results)/len(total_search_result))*100"
   ]
  },
  {
   "cell_type": "markdown",
   "metadata": {},
   "source": [
    "18.4% of total results are zero results "
   ]
  },
  {
   "cell_type": "code",
   "execution_count": 21,
   "metadata": {
    "collapsed": false
   },
   "outputs": [
    {
     "data": {
      "text/html": [
       "<div>\n",
       "<style>\n",
       "    .dataframe thead tr:only-child th {\n",
       "        text-align: right;\n",
       "    }\n",
       "\n",
       "    .dataframe thead th {\n",
       "        text-align: left;\n",
       "    }\n",
       "\n",
       "    .dataframe tbody tr th {\n",
       "        vertical-align: top;\n",
       "    }\n",
       "</style>\n",
       "<table border=\"1\" class=\"dataframe\">\n",
       "  <thead>\n",
       "    <tr style=\"text-align: right;\">\n",
       "      <th></th>\n",
       "      <th>uuid</th>\n",
       "      <th>timestamp</th>\n",
       "      <th>session_id</th>\n",
       "      <th>group</th>\n",
       "      <th>action</th>\n",
       "      <th>checkin</th>\n",
       "      <th>page_id</th>\n",
       "      <th>n_results</th>\n",
       "      <th>result_position</th>\n",
       "    </tr>\n",
       "  </thead>\n",
       "  <tbody>\n",
       "    <tr>\n",
       "      <th>34</th>\n",
       "      <td>00055f9db0095e33a27c405a460e2938</td>\n",
       "      <td>2016-03-04 00:56:24</td>\n",
       "      <td>4ca63ff30146a5bd</td>\n",
       "      <td>b</td>\n",
       "      <td>searchResultPage</td>\n",
       "      <td>NaN</td>\n",
       "      <td>fc1c434d8de2a692</td>\n",
       "      <td>0.0</td>\n",
       "      <td>NaN</td>\n",
       "    </tr>\n",
       "    <tr>\n",
       "      <th>48</th>\n",
       "      <td>00077de1ae4650af82f34c146e4ad905</td>\n",
       "      <td>2016-03-01 09:45:13</td>\n",
       "      <td>96539ff273a06ee7</td>\n",
       "      <td>a</td>\n",
       "      <td>searchResultPage</td>\n",
       "      <td>NaN</td>\n",
       "      <td>bdfe82e8a1676718</td>\n",
       "      <td>0.0</td>\n",
       "      <td>NaN</td>\n",
       "    </tr>\n",
       "    <tr>\n",
       "      <th>60</th>\n",
       "      <td>0008b8cb47175ed5b6f46fde5c5698e4</td>\n",
       "      <td>2016-03-01 15:23:18</td>\n",
       "      <td>83c8b548d93c6ffa</td>\n",
       "      <td>a</td>\n",
       "      <td>searchResultPage</td>\n",
       "      <td>NaN</td>\n",
       "      <td>c742d873e7b0ac9c</td>\n",
       "      <td>0.0</td>\n",
       "      <td>NaN</td>\n",
       "    </tr>\n",
       "    <tr>\n",
       "      <th>65</th>\n",
       "      <td>0009cf4511fd52ab81a3f5c49a0f61dd</td>\n",
       "      <td>2016-03-06 19:52:50</td>\n",
       "      <td>85ffaf044d053d54</td>\n",
       "      <td>b</td>\n",
       "      <td>searchResultPage</td>\n",
       "      <td>NaN</td>\n",
       "      <td>ee21bb97d7f6e768</td>\n",
       "      <td>0.0</td>\n",
       "      <td>NaN</td>\n",
       "    </tr>\n",
       "    <tr>\n",
       "      <th>68</th>\n",
       "      <td>000a27b148835834849a81f4fddab30b</td>\n",
       "      <td>2016-03-02 12:04:09</td>\n",
       "      <td>305bb9447d8679ee</td>\n",
       "      <td>a</td>\n",
       "      <td>searchResultPage</td>\n",
       "      <td>NaN</td>\n",
       "      <td>77a573f9e4110fab</td>\n",
       "      <td>0.0</td>\n",
       "      <td>NaN</td>\n",
       "    </tr>\n",
       "  </tbody>\n",
       "</table>\n",
       "</div>"
      ],
      "text/plain": [
       "                                uuid           timestamp        session_id  \\\n",
       "34  00055f9db0095e33a27c405a460e2938 2016-03-04 00:56:24  4ca63ff30146a5bd   \n",
       "48  00077de1ae4650af82f34c146e4ad905 2016-03-01 09:45:13  96539ff273a06ee7   \n",
       "60  0008b8cb47175ed5b6f46fde5c5698e4 2016-03-01 15:23:18  83c8b548d93c6ffa   \n",
       "65  0009cf4511fd52ab81a3f5c49a0f61dd 2016-03-06 19:52:50  85ffaf044d053d54   \n",
       "68  000a27b148835834849a81f4fddab30b 2016-03-02 12:04:09  305bb9447d8679ee   \n",
       "\n",
       "   group            action  checkin           page_id  n_results  \\\n",
       "34     b  searchResultPage      NaN  fc1c434d8de2a692        0.0   \n",
       "48     a  searchResultPage      NaN  bdfe82e8a1676718        0.0   \n",
       "60     a  searchResultPage      NaN  c742d873e7b0ac9c        0.0   \n",
       "65     b  searchResultPage      NaN  ee21bb97d7f6e768        0.0   \n",
       "68     a  searchResultPage      NaN  77a573f9e4110fab        0.0   \n",
       "\n",
       "    result_position  \n",
       "34              NaN  \n",
       "48              NaN  \n",
       "60              NaN  \n",
       "65              NaN  \n",
       "68              NaN  "
      ]
     },
     "execution_count": 21,
     "metadata": {},
     "output_type": "execute_result"
    }
   ],
   "source": [
    "zero_results[:5]"
   ]
  },
  {
   "cell_type": "code",
   "execution_count": 22,
   "metadata": {
    "collapsed": false
   },
   "outputs": [
    {
     "data": {
      "text/plain": [
       "[1, 2, 3, 4, 5, 6, 7, 8]"
      ]
     },
     "execution_count": 22,
     "metadata": {},
     "output_type": "execute_result"
    }
   ],
   "source": [
    "days=sorted(zero_results.timestamp.dt.day.unique())\n",
    "days"
   ]
  },
  {
   "cell_type": "code",
   "execution_count": 23,
   "metadata": {
    "collapsed": false
   },
   "outputs": [
    {
     "name": "stdout",
     "output_type": "stream",
     "text": [
      "[1, 2, 3, 4, 5, 6, 7, 8]\n",
      "[0.0    3447\n",
      "Name: n_results, dtype: int64, 0.0    3589\n",
      "Name: n_results, dtype: int64, 0.0    3443\n",
      "Name: n_results, dtype: int64, 0.0    3015\n",
      "Name: n_results, dtype: int64, 0.0    2442\n",
      "Name: n_results, dtype: int64, 0.0    2574\n",
      "Name: n_results, dtype: int64, 0.0    3460\n",
      "Name: n_results, dtype: int64, 0.0    3157\n",
      "Name: n_results, dtype: int64]\n"
     ]
    },
    {
     "data": {
      "image/png": "[encoded data removed]",
      "text/plain": [
       "<matplotlib.figure.Figure at 0x1f5caaeada0>"
      ]
     },
     "metadata": {},
     "output_type": "display_data"
    }
   ],
   "source": [
    "days_array=[]\n",
    "for day in days:\n",
    "    d=[day]\n",
    "    days_zero_results=zero_results.loc[zero_results.timestamp.dt.day == day]\n",
    "    d.append(days_zero_results.n_results.value_counts())\n",
    "    days_array.append(d)\n",
    "    \n",
    "labels=[]\n",
    "values=[]\n",
    "for i in days_array:\n",
    "    labels.append(i[0])\n",
    "    values.append(i[1])\n",
    "print(labels)\n",
    "print(values)\n",
    "\n",
    "labels=np.array(labels)\n",
    "values=np.array(values)\n",
    "ind=np.arange(len(labels))\n",
    "\n",
    "fig,ax=plt.subplots()\n",
    "rects=ax.bar(ind,values,color='g')\n",
    "ax.set_xticklabels(labels)\n",
    "ax.set_xticks(ind)\n",
    "ax.set_ylabel(\"Count\")\n",
    "ax.set_xlabel(\"Days\")\n",
    "ax.set_title(\"zero results count\")\n",
    "autolabel(rects)\n",
    "plt.show()"
   ]
  },
  {
   "cell_type": "markdown",
   "metadata": {},
   "source": [
    "Total Zero results are 25127 and indvidual days results are above"
   ]
  },
  {
   "cell_type": "markdown",
   "metadata": {},
   "source": [
    "### How does it vary between the groups?"
   ]
  },
  {
   "cell_type": "code",
   "execution_count": 24,
   "metadata": {
    "collapsed": false
   },
   "outputs": [
    {
     "data": {
      "text/plain": [
       "['a', 'b']"
      ]
     },
     "execution_count": 24,
     "metadata": {},
     "output_type": "execute_result"
    }
   ],
   "source": [
    "groups=sorted(zero_results.group.unique())\n",
    "groups"
   ]
  },
  {
   "cell_type": "code",
   "execution_count": 25,
   "metadata": {
    "collapsed": false
   },
   "outputs": [
    {
     "name": "stdout",
     "output_type": "stream",
     "text": [
      "['a', 'b']\n",
      "[a    16902\n",
      "Name: group, dtype: int64, b    8225\n",
      "Name: group, dtype: int64]\n"
     ]
    },
    {
     "data": {
      "image/png": "[encoded data removed]",
      "text/plain": [
       "<matplotlib.figure.Figure at 0x1f5cbc44828>"
      ]
     },
     "metadata": {},
     "output_type": "display_data"
    }
   ],
   "source": [
    "groups_array=[]\n",
    "for grp in groups:\n",
    "    d=[grp]\n",
    "    group_results=zero_results.loc[zero_results.group == grp]\n",
    "    d.append(group_results.group.value_counts())\n",
    "    groups_array.append(d)\n",
    "    \n",
    "labels=[]\n",
    "values=[]\n",
    "for i in groups_array:\n",
    "    labels.append(i[0])\n",
    "    values.append(i[1])\n",
    "print(labels)\n",
    "print(values)\n",
    "\n",
    "labels=np.array(labels)\n",
    "values=np.array(values)\n",
    "ind=np.arange(len(labels))\n",
    "\n",
    "fig,ax=plt.subplots()\n",
    "rects=ax.bar(ind,values,color='g')\n",
    "ax.set_xticklabels(labels)\n",
    "ax.set_xticks(ind)\n",
    "ax.set_ylabel(\"Count\")\n",
    "ax.set_xlabel(\"groups\")\n",
    "ax.set_title(\"zero results count\")\n",
    "autolabel(rects)\n",
    "plt.show()"
   ]
  },
  {
   "cell_type": "code",
   "execution_count": 26,
   "metadata": {
    "collapsed": true
   },
   "outputs": [],
   "source": [
    "#end3"
   ]
  },
  {
   "cell_type": "markdown",
   "metadata": {},
   "source": [
    "### session length "
   ]
  },
  {
   "cell_type": "code",
   "execution_count": 27,
   "metadata": {
    "collapsed": false
   },
   "outputs": [],
   "source": [
    "a=data.groupby('session_id')\n",
    "min_time=a['timestamp'].min()\n",
    "max_time=a['timestamp'].max()"
   ]
  },
  {
   "cell_type": "code",
   "execution_count": 28,
   "metadata": {
    "collapsed": false
   },
   "outputs": [],
   "source": [
    "session=np.array(min_time.keys())\n",
    "min_time=np.array(min_time)\n",
    "max_time=np.array(max_time)"
   ]
  },
  {
   "cell_type": "code",
   "execution_count": 29,
   "metadata": {
    "collapsed": false
   },
   "outputs": [],
   "source": [
    "col=['session_id','min_time','max_time']\n",
    "ml_data=pd.DataFrame(columns=col)"
   ]
  },
  {
   "cell_type": "code",
   "execution_count": 30,
   "metadata": {
    "collapsed": true
   },
   "outputs": [],
   "source": [
    "ml_data['session_id']=session\n",
    "ml_data['min_time']=min_time\n",
    "ml_data['max_time']=max_time"
   ]
  },
  {
   "cell_type": "code",
   "execution_count": 31,
   "metadata": {
    "collapsed": false
   },
   "outputs": [
    {
     "data": {
      "text/html": [
       "<div>\n",
       "<style>\n",
       "    .dataframe thead tr:only-child th {\n",
       "        text-align: right;\n",
       "    }\n",
       "\n",
       "    .dataframe thead th {\n",
       "        text-align: left;\n",
       "    }\n",
       "\n",
       "    .dataframe tbody tr th {\n",
       "        vertical-align: top;\n",
       "    }\n",
       "</style>\n",
       "<table border=\"1\" class=\"dataframe\">\n",
       "  <thead>\n",
       "    <tr style=\"text-align: right;\">\n",
       "      <th></th>\n",
       "      <th>session_id</th>\n",
       "      <th>min_time</th>\n",
       "      <th>max_time</th>\n",
       "    </tr>\n",
       "  </thead>\n",
       "  <tbody>\n",
       "    <tr>\n",
       "      <th>0</th>\n",
       "      <td>0000cbcb67c19c45</td>\n",
       "      <td>2016-03-03 15:20:45</td>\n",
       "      <td>2016-03-03 15:20:45</td>\n",
       "    </tr>\n",
       "    <tr>\n",
       "      <th>1</th>\n",
       "      <td>0001382e027b2ea4</td>\n",
       "      <td>2016-03-07 08:49:55</td>\n",
       "      <td>2016-03-07 08:54:58</td>\n",
       "    </tr>\n",
       "    <tr>\n",
       "      <th>2</th>\n",
       "      <td>0001e8bb90445cb2</td>\n",
       "      <td>2016-03-05 09:24:15</td>\n",
       "      <td>2016-03-05 09:31:30</td>\n",
       "    </tr>\n",
       "    <tr>\n",
       "      <th>3</th>\n",
       "      <td>000216cf18ae1ab1</td>\n",
       "      <td>2016-03-08 16:19:46</td>\n",
       "      <td>2016-03-08 16:20:44</td>\n",
       "    </tr>\n",
       "    <tr>\n",
       "      <th>4</th>\n",
       "      <td>000527f711d50dfc</td>\n",
       "      <td>2016-03-08 05:33:00</td>\n",
       "      <td>2016-03-08 05:33:00</td>\n",
       "    </tr>\n",
       "  </tbody>\n",
       "</table>\n",
       "</div>"
      ],
      "text/plain": [
       "         session_id            min_time            max_time\n",
       "0  0000cbcb67c19c45 2016-03-03 15:20:45 2016-03-03 15:20:45\n",
       "1  0001382e027b2ea4 2016-03-07 08:49:55 2016-03-07 08:54:58\n",
       "2  0001e8bb90445cb2 2016-03-05 09:24:15 2016-03-05 09:31:30\n",
       "3  000216cf18ae1ab1 2016-03-08 16:19:46 2016-03-08 16:20:44\n",
       "4  000527f711d50dfc 2016-03-08 05:33:00 2016-03-08 05:33:00"
      ]
     },
     "execution_count": 31,
     "metadata": {},
     "output_type": "execute_result"
    }
   ],
   "source": [
    "ml_data[:5]"
   ]
  },
  {
   "cell_type": "code",
   "execution_count": 32,
   "metadata": {
    "collapsed": false
   },
   "outputs": [],
   "source": [
    "ml_data['session_time']=(ml_data['max_time']-ml_data['min_time']).dt.total_seconds()"
   ]
  },
  {
   "cell_type": "code",
   "execution_count": 33,
   "metadata": {
    "collapsed": false
   },
   "outputs": [
    {
     "data": {
      "text/html": [
       "<div>\n",
       "<style>\n",
       "    .dataframe thead tr:only-child th {\n",
       "        text-align: right;\n",
       "    }\n",
       "\n",
       "    .dataframe thead th {\n",
       "        text-align: left;\n",
       "    }\n",
       "\n",
       "    .dataframe tbody tr th {\n",
       "        vertical-align: top;\n",
       "    }\n",
       "</style>\n",
       "<table border=\"1\" class=\"dataframe\">\n",
       "  <thead>\n",
       "    <tr style=\"text-align: right;\">\n",
       "      <th></th>\n",
       "      <th>session_id</th>\n",
       "      <th>min_time</th>\n",
       "      <th>max_time</th>\n",
       "      <th>session_time</th>\n",
       "    </tr>\n",
       "  </thead>\n",
       "  <tbody>\n",
       "    <tr>\n",
       "      <th>0</th>\n",
       "      <td>0000cbcb67c19c45</td>\n",
       "      <td>2016-03-03 15:20:45</td>\n",
       "      <td>2016-03-03 15:20:45</td>\n",
       "      <td>0.0</td>\n",
       "    </tr>\n",
       "    <tr>\n",
       "      <th>1</th>\n",
       "      <td>0001382e027b2ea4</td>\n",
       "      <td>2016-03-07 08:49:55</td>\n",
       "      <td>2016-03-07 08:54:58</td>\n",
       "      <td>303.0</td>\n",
       "    </tr>\n",
       "    <tr>\n",
       "      <th>2</th>\n",
       "      <td>0001e8bb90445cb2</td>\n",
       "      <td>2016-03-05 09:24:15</td>\n",
       "      <td>2016-03-05 09:31:30</td>\n",
       "      <td>435.0</td>\n",
       "    </tr>\n",
       "    <tr>\n",
       "      <th>3</th>\n",
       "      <td>000216cf18ae1ab1</td>\n",
       "      <td>2016-03-08 16:19:46</td>\n",
       "      <td>2016-03-08 16:20:44</td>\n",
       "      <td>58.0</td>\n",
       "    </tr>\n",
       "    <tr>\n",
       "      <th>4</th>\n",
       "      <td>000527f711d50dfc</td>\n",
       "      <td>2016-03-08 05:33:00</td>\n",
       "      <td>2016-03-08 05:33:00</td>\n",
       "      <td>0.0</td>\n",
       "    </tr>\n",
       "  </tbody>\n",
       "</table>\n",
       "</div>"
      ],
      "text/plain": [
       "         session_id            min_time            max_time  session_time\n",
       "0  0000cbcb67c19c45 2016-03-03 15:20:45 2016-03-03 15:20:45           0.0\n",
       "1  0001382e027b2ea4 2016-03-07 08:49:55 2016-03-07 08:54:58         303.0\n",
       "2  0001e8bb90445cb2 2016-03-05 09:24:15 2016-03-05 09:31:30         435.0\n",
       "3  000216cf18ae1ab1 2016-03-08 16:19:46 2016-03-08 16:20:44          58.0\n",
       "4  000527f711d50dfc 2016-03-08 05:33:00 2016-03-08 05:33:00           0.0"
      ]
     },
     "execution_count": 33,
     "metadata": {},
     "output_type": "execute_result"
    }
   ],
   "source": [
    "ml_data[:5]"
   ]
  },
  {
   "cell_type": "markdown",
   "metadata": {},
   "source": [
    "We can take session id and visualize which session takes highest time or top 10 highest times sessions"
   ]
  },
  {
   "cell_type": "code",
   "execution_count": 34,
   "metadata": {
    "collapsed": false
   },
   "outputs": [
    {
     "data": {
      "text/html": [
       "<div>\n",
       "<style>\n",
       "    .dataframe thead tr:only-child th {\n",
       "        text-align: right;\n",
       "    }\n",
       "\n",
       "    .dataframe thead th {\n",
       "        text-align: left;\n",
       "    }\n",
       "\n",
       "    .dataframe tbody tr th {\n",
       "        vertical-align: top;\n",
       "    }\n",
       "</style>\n",
       "<table border=\"1\" class=\"dataframe\">\n",
       "  <thead>\n",
       "    <tr style=\"text-align: right;\">\n",
       "      <th></th>\n",
       "      <th>session_id</th>\n",
       "      <th>min_time</th>\n",
       "      <th>max_time</th>\n",
       "      <th>session_time</th>\n",
       "    </tr>\n",
       "  </thead>\n",
       "  <tbody>\n",
       "    <tr>\n",
       "      <th>0</th>\n",
       "      <td>0000cbcb67c19c45</td>\n",
       "      <td>2016-03-03 15:20:45</td>\n",
       "      <td>2016-03-03 15:20:45</td>\n",
       "      <td>0.0</td>\n",
       "    </tr>\n",
       "    <tr>\n",
       "      <th>35727</th>\n",
       "      <td>863639805e0bfc91</td>\n",
       "      <td>2016-03-02 20:42:38</td>\n",
       "      <td>2016-03-02 20:42:38</td>\n",
       "      <td>0.0</td>\n",
       "    </tr>\n",
       "    <tr>\n",
       "      <th>35729</th>\n",
       "      <td>863937b2ef07b251</td>\n",
       "      <td>2016-03-08 01:50:51</td>\n",
       "      <td>2016-03-08 01:50:51</td>\n",
       "      <td>0.0</td>\n",
       "    </tr>\n",
       "    <tr>\n",
       "      <th>35733</th>\n",
       "      <td>863ddd288e201fd8</td>\n",
       "      <td>2016-03-06 22:33:44</td>\n",
       "      <td>2016-03-06 22:33:44</td>\n",
       "      <td>0.0</td>\n",
       "    </tr>\n",
       "    <tr>\n",
       "      <th>35737</th>\n",
       "      <td>8641492b36b461c1</td>\n",
       "      <td>2016-03-07 06:56:54</td>\n",
       "      <td>2016-03-07 06:56:54</td>\n",
       "      <td>0.0</td>\n",
       "    </tr>\n",
       "    <tr>\n",
       "      <th>35739</th>\n",
       "      <td>86423bfec63a74fb</td>\n",
       "      <td>2016-03-08 15:55:16</td>\n",
       "      <td>2016-03-08 15:55:16</td>\n",
       "      <td>0.0</td>\n",
       "    </tr>\n",
       "    <tr>\n",
       "      <th>35741</th>\n",
       "      <td>8643531f03d21cb6</td>\n",
       "      <td>2016-03-08 11:53:14</td>\n",
       "      <td>2016-03-08 11:53:14</td>\n",
       "      <td>0.0</td>\n",
       "    </tr>\n",
       "    <tr>\n",
       "      <th>35749</th>\n",
       "      <td>864aad61490bdec6</td>\n",
       "      <td>2016-03-02 01:13:54</td>\n",
       "      <td>2016-03-02 01:13:54</td>\n",
       "      <td>0.0</td>\n",
       "    </tr>\n",
       "    <tr>\n",
       "      <th>35750</th>\n",
       "      <td>864ade3aa95cbde2</td>\n",
       "      <td>2016-03-08 00:21:34</td>\n",
       "      <td>2016-03-08 00:21:34</td>\n",
       "      <td>0.0</td>\n",
       "    </tr>\n",
       "    <tr>\n",
       "      <th>35757</th>\n",
       "      <td>865148dfaa60a094</td>\n",
       "      <td>2016-03-02 03:53:08</td>\n",
       "      <td>2016-03-02 03:53:08</td>\n",
       "      <td>0.0</td>\n",
       "    </tr>\n",
       "    <tr>\n",
       "      <th>35758</th>\n",
       "      <td>865289583d875b8c</td>\n",
       "      <td>2016-03-04 00:18:48</td>\n",
       "      <td>2016-03-04 00:18:48</td>\n",
       "      <td>0.0</td>\n",
       "    </tr>\n",
       "    <tr>\n",
       "      <th>35759</th>\n",
       "      <td>8652a4d90f79c584</td>\n",
       "      <td>2016-03-01 22:30:12</td>\n",
       "      <td>2016-03-01 22:30:12</td>\n",
       "      <td>0.0</td>\n",
       "    </tr>\n",
       "    <tr>\n",
       "      <th>35761</th>\n",
       "      <td>8654c15c72474da8</td>\n",
       "      <td>2016-03-08 06:42:25</td>\n",
       "      <td>2016-03-08 06:42:25</td>\n",
       "      <td>0.0</td>\n",
       "    </tr>\n",
       "    <tr>\n",
       "      <th>35765</th>\n",
       "      <td>865cabf1b32a4c48</td>\n",
       "      <td>2016-03-07 12:29:34</td>\n",
       "      <td>2016-03-07 12:29:34</td>\n",
       "      <td>0.0</td>\n",
       "    </tr>\n",
       "    <tr>\n",
       "      <th>35770</th>\n",
       "      <td>8662952fc61ea740</td>\n",
       "      <td>2016-03-01 06:11:27</td>\n",
       "      <td>2016-03-01 06:11:27</td>\n",
       "      <td>0.0</td>\n",
       "    </tr>\n",
       "    <tr>\n",
       "      <th>35772</th>\n",
       "      <td>86633f37fa6b5075</td>\n",
       "      <td>2016-03-04 20:11:49</td>\n",
       "      <td>2016-03-04 20:11:49</td>\n",
       "      <td>0.0</td>\n",
       "    </tr>\n",
       "    <tr>\n",
       "      <th>35723</th>\n",
       "      <td>8631603f9841e99d</td>\n",
       "      <td>2016-03-08 14:57:38</td>\n",
       "      <td>2016-03-08 14:57:38</td>\n",
       "      <td>0.0</td>\n",
       "    </tr>\n",
       "    <tr>\n",
       "      <th>35777</th>\n",
       "      <td>86679f0523206510</td>\n",
       "      <td>2016-03-01 22:27:13</td>\n",
       "      <td>2016-03-01 22:27:13</td>\n",
       "      <td>0.0</td>\n",
       "    </tr>\n",
       "    <tr>\n",
       "      <th>35722</th>\n",
       "      <td>86312f8f7de5dfc4</td>\n",
       "      <td>2016-03-08 08:51:33</td>\n",
       "      <td>2016-03-08 08:51:33</td>\n",
       "      <td>0.0</td>\n",
       "    </tr>\n",
       "    <tr>\n",
       "      <th>35716</th>\n",
       "      <td>86272e50da18be53</td>\n",
       "      <td>2016-03-04 14:22:11</td>\n",
       "      <td>2016-03-04 14:22:11</td>\n",
       "      <td>0.0</td>\n",
       "    </tr>\n",
       "    <tr>\n",
       "      <th>35678</th>\n",
       "      <td>85fc6914a92192de</td>\n",
       "      <td>2016-03-03 20:35:32</td>\n",
       "      <td>2016-03-03 20:35:32</td>\n",
       "      <td>0.0</td>\n",
       "    </tr>\n",
       "    <tr>\n",
       "      <th>35679</th>\n",
       "      <td>85fc69c6cf6ead26</td>\n",
       "      <td>2016-03-02 23:10:44</td>\n",
       "      <td>2016-03-02 23:10:44</td>\n",
       "      <td>0.0</td>\n",
       "    </tr>\n",
       "    <tr>\n",
       "      <th>35682</th>\n",
       "      <td>85fea23f0fb2c61b</td>\n",
       "      <td>2016-03-08 14:44:48</td>\n",
       "      <td>2016-03-08 14:44:48</td>\n",
       "      <td>0.0</td>\n",
       "    </tr>\n",
       "    <tr>\n",
       "      <th>35683</th>\n",
       "      <td>85ffaf044d053d54</td>\n",
       "      <td>2016-03-06 19:52:50</td>\n",
       "      <td>2016-03-06 19:52:50</td>\n",
       "      <td>0.0</td>\n",
       "    </tr>\n",
       "    <tr>\n",
       "      <th>35686</th>\n",
       "      <td>8601c3542f7c1657</td>\n",
       "      <td>2016-03-01 07:23:39</td>\n",
       "      <td>2016-03-01 07:23:39</td>\n",
       "      <td>0.0</td>\n",
       "    </tr>\n",
       "    <tr>\n",
       "      <th>35688</th>\n",
       "      <td>8606a3c9bb90442f</td>\n",
       "      <td>2016-03-07 10:32:25</td>\n",
       "      <td>2016-03-07 10:32:25</td>\n",
       "      <td>0.0</td>\n",
       "    </tr>\n",
       "    <tr>\n",
       "      <th>35690</th>\n",
       "      <td>8606e7bd72481b3a</td>\n",
       "      <td>2016-03-08 14:28:02</td>\n",
       "      <td>2016-03-08 14:28:02</td>\n",
       "      <td>0.0</td>\n",
       "    </tr>\n",
       "    <tr>\n",
       "      <th>35697</th>\n",
       "      <td>86139a8be59c1412</td>\n",
       "      <td>2016-03-02 10:41:16</td>\n",
       "      <td>2016-03-02 10:41:16</td>\n",
       "      <td>0.0</td>\n",
       "    </tr>\n",
       "    <tr>\n",
       "      <th>35698</th>\n",
       "      <td>8614f160e02b366b</td>\n",
       "      <td>2016-03-01 20:00:17</td>\n",
       "      <td>2016-03-01 20:00:17</td>\n",
       "      <td>0.0</td>\n",
       "    </tr>\n",
       "    <tr>\n",
       "      <th>35701</th>\n",
       "      <td>8619e3d9ba36534c</td>\n",
       "      <td>2016-03-07 21:49:33</td>\n",
       "      <td>2016-03-07 21:49:33</td>\n",
       "      <td>0.0</td>\n",
       "    </tr>\n",
       "    <tr>\n",
       "      <th>...</th>\n",
       "      <td>...</td>\n",
       "      <td>...</td>\n",
       "      <td>...</td>\n",
       "      <td>...</td>\n",
       "    </tr>\n",
       "    <tr>\n",
       "      <th>8604</th>\n",
       "      <td>2055130eba6b0c5f</td>\n",
       "      <td>2016-03-01 00:30:44</td>\n",
       "      <td>2016-03-01 04:18:37</td>\n",
       "      <td>13673.0</td>\n",
       "    </tr>\n",
       "    <tr>\n",
       "      <th>23142</th>\n",
       "      <td>571a287b42a8af90</td>\n",
       "      <td>2016-03-02 01:51:58</td>\n",
       "      <td>2016-03-02 06:05:04</td>\n",
       "      <td>15186.0</td>\n",
       "    </tr>\n",
       "    <tr>\n",
       "      <th>2591</th>\n",
       "      <td>095da46fc1896083</td>\n",
       "      <td>2016-03-03 14:58:04</td>\n",
       "      <td>2016-03-03 19:12:49</td>\n",
       "      <td>15285.0</td>\n",
       "    </tr>\n",
       "    <tr>\n",
       "      <th>58654</th>\n",
       "      <td>dccd441376e3086a</td>\n",
       "      <td>2016-03-05 00:53:08</td>\n",
       "      <td>2016-03-05 05:29:39</td>\n",
       "      <td>16591.0</td>\n",
       "    </tr>\n",
       "    <tr>\n",
       "      <th>61967</th>\n",
       "      <td>e965aa3011b7c88c</td>\n",
       "      <td>2016-03-04 20:23:18</td>\n",
       "      <td>2016-03-05 01:06:14</td>\n",
       "      <td>16976.0</td>\n",
       "    </tr>\n",
       "    <tr>\n",
       "      <th>6531</th>\n",
       "      <td>1870594b9e714f77</td>\n",
       "      <td>2016-03-03 19:12:15</td>\n",
       "      <td>2016-03-04 00:01:39</td>\n",
       "      <td>17364.0</td>\n",
       "    </tr>\n",
       "    <tr>\n",
       "      <th>49057</th>\n",
       "      <td>b863253d3531f351</td>\n",
       "      <td>2016-03-02 09:00:01</td>\n",
       "      <td>2016-03-02 14:07:08</td>\n",
       "      <td>18427.0</td>\n",
       "    </tr>\n",
       "    <tr>\n",
       "      <th>13341</th>\n",
       "      <td>32901b0c7cd5c116</td>\n",
       "      <td>2016-03-04 22:11:49</td>\n",
       "      <td>2016-03-05 03:28:47</td>\n",
       "      <td>19018.0</td>\n",
       "    </tr>\n",
       "    <tr>\n",
       "      <th>42944</th>\n",
       "      <td>a131d1d9e124a227</td>\n",
       "      <td>2016-03-06 13:57:23</td>\n",
       "      <td>2016-03-06 19:51:19</td>\n",
       "      <td>21236.0</td>\n",
       "    </tr>\n",
       "    <tr>\n",
       "      <th>51335</th>\n",
       "      <td>c0f9ac4ceee5925f</td>\n",
       "      <td>2016-03-02 21:23:34</td>\n",
       "      <td>2016-03-03 03:30:11</td>\n",
       "      <td>21997.0</td>\n",
       "    </tr>\n",
       "    <tr>\n",
       "      <th>43206</th>\n",
       "      <td>a21fcd8d72e9b6af</td>\n",
       "      <td>2016-03-03 15:39:52</td>\n",
       "      <td>2016-03-03 22:42:44</td>\n",
       "      <td>25372.0</td>\n",
       "    </tr>\n",
       "    <tr>\n",
       "      <th>27861</th>\n",
       "      <td>693bb2cd9a3e849f</td>\n",
       "      <td>2016-03-03 14:00:48</td>\n",
       "      <td>2016-03-03 21:22:45</td>\n",
       "      <td>26517.0</td>\n",
       "    </tr>\n",
       "    <tr>\n",
       "      <th>12000</th>\n",
       "      <td>2d6a3921642e1cf5</td>\n",
       "      <td>2016-03-01 07:04:58</td>\n",
       "      <td>2016-03-01 15:22:22</td>\n",
       "      <td>29844.0</td>\n",
       "    </tr>\n",
       "    <tr>\n",
       "      <th>31210</th>\n",
       "      <td>75e1c65382cfb9ca</td>\n",
       "      <td>2016-03-02 04:52:40</td>\n",
       "      <td>2016-03-02 13:39:00</td>\n",
       "      <td>31580.0</td>\n",
       "    </tr>\n",
       "    <tr>\n",
       "      <th>352</th>\n",
       "      <td>013481b48dd227b8</td>\n",
       "      <td>2016-03-07 03:17:41</td>\n",
       "      <td>2016-03-07 12:40:06</td>\n",
       "      <td>33745.0</td>\n",
       "    </tr>\n",
       "    <tr>\n",
       "      <th>57806</th>\n",
       "      <td>d98f7b3957c95650</td>\n",
       "      <td>2016-03-04 00:49:44</td>\n",
       "      <td>2016-03-04 10:14:20</td>\n",
       "      <td>33876.0</td>\n",
       "    </tr>\n",
       "    <tr>\n",
       "      <th>27254</th>\n",
       "      <td>66a6c223b9eb562f</td>\n",
       "      <td>2016-03-05 02:40:50</td>\n",
       "      <td>2016-03-05 12:19:55</td>\n",
       "      <td>34745.0</td>\n",
       "    </tr>\n",
       "    <tr>\n",
       "      <th>57045</th>\n",
       "      <td>d690dd38ce7d40d7</td>\n",
       "      <td>2016-03-06 04:56:26</td>\n",
       "      <td>2016-03-06 17:03:01</td>\n",
       "      <td>43595.0</td>\n",
       "    </tr>\n",
       "    <tr>\n",
       "      <th>50690</th>\n",
       "      <td>be9ed50ae43a4a82</td>\n",
       "      <td>2016-03-02 05:46:44</td>\n",
       "      <td>2016-03-02 18:16:03</td>\n",
       "      <td>44959.0</td>\n",
       "    </tr>\n",
       "    <tr>\n",
       "      <th>9070</th>\n",
       "      <td>2209172e0afe0659</td>\n",
       "      <td>2016-03-03 03:26:06</td>\n",
       "      <td>2016-03-03 16:08:20</td>\n",
       "      <td>45734.0</td>\n",
       "    </tr>\n",
       "    <tr>\n",
       "      <th>38241</th>\n",
       "      <td>8f563732ec2c918d</td>\n",
       "      <td>2016-03-03 00:07:47</td>\n",
       "      <td>2016-03-03 13:20:49</td>\n",
       "      <td>47582.0</td>\n",
       "    </tr>\n",
       "    <tr>\n",
       "      <th>55339</th>\n",
       "      <td>d02fa3ad4d5b3d25</td>\n",
       "      <td>2016-03-02 10:24:41</td>\n",
       "      <td>2016-03-03 00:09:48</td>\n",
       "      <td>49507.0</td>\n",
       "    </tr>\n",
       "    <tr>\n",
       "      <th>28194</th>\n",
       "      <td>6a7e500bfaee5df8</td>\n",
       "      <td>2016-03-04 01:20:25</td>\n",
       "      <td>2016-03-04 15:13:50</td>\n",
       "      <td>50005.0</td>\n",
       "    </tr>\n",
       "    <tr>\n",
       "      <th>11588</th>\n",
       "      <td>2bbb451395566f9e</td>\n",
       "      <td>2016-03-06 00:35:14</td>\n",
       "      <td>2016-03-06 15:55:55</td>\n",
       "      <td>55241.0</td>\n",
       "    </tr>\n",
       "    <tr>\n",
       "      <th>47014</th>\n",
       "      <td>b082906f389d5a2d</td>\n",
       "      <td>2016-03-05 18:55:15</td>\n",
       "      <td>2016-03-06 13:43:16</td>\n",
       "      <td>67681.0</td>\n",
       "    </tr>\n",
       "    <tr>\n",
       "      <th>38348</th>\n",
       "      <td>8fcf342c98b38c50</td>\n",
       "      <td>2016-03-01 19:37:36</td>\n",
       "      <td>2016-03-02 15:19:35</td>\n",
       "      <td>70919.0</td>\n",
       "    </tr>\n",
       "    <tr>\n",
       "      <th>1206</th>\n",
       "      <td>04764bf01c6a79dc</td>\n",
       "      <td>2016-03-06 12:06:34</td>\n",
       "      <td>2016-03-07 09:05:03</td>\n",
       "      <td>75509.0</td>\n",
       "    </tr>\n",
       "    <tr>\n",
       "      <th>56351</th>\n",
       "      <td>d3ec4be515c0f579</td>\n",
       "      <td>2016-03-03 10:55:47</td>\n",
       "      <td>2016-03-04 09:14:00</td>\n",
       "      <td>80293.0</td>\n",
       "    </tr>\n",
       "    <tr>\n",
       "      <th>60887</th>\n",
       "      <td>e52d0c1117fc07eb</td>\n",
       "      <td>2016-03-03 21:37:54</td>\n",
       "      <td>2016-03-05 13:02:11</td>\n",
       "      <td>141857.0</td>\n",
       "    </tr>\n",
       "    <tr>\n",
       "      <th>37590</th>\n",
       "      <td>8cf57f4f99f96220</td>\n",
       "      <td>2016-03-02 16:49:05</td>\n",
       "      <td>2016-03-08 13:03:44</td>\n",
       "      <td>504879.0</td>\n",
       "    </tr>\n",
       "  </tbody>\n",
       "</table>\n",
       "<p>68028 rows × 4 columns</p>\n",
       "</div>"
      ],
      "text/plain": [
       "             session_id            min_time            max_time  session_time\n",
       "0      0000cbcb67c19c45 2016-03-03 15:20:45 2016-03-03 15:20:45           0.0\n",
       "35727  863639805e0bfc91 2016-03-02 20:42:38 2016-03-02 20:42:38           0.0\n",
       "35729  863937b2ef07b251 2016-03-08 01:50:51 2016-03-08 01:50:51           0.0\n",
       "35733  863ddd288e201fd8 2016-03-06 22:33:44 2016-03-06 22:33:44           0.0\n",
       "35737  8641492b36b461c1 2016-03-07 06:56:54 2016-03-07 06:56:54           0.0\n",
       "35739  86423bfec63a74fb 2016-03-08 15:55:16 2016-03-08 15:55:16           0.0\n",
       "35741  8643531f03d21cb6 2016-03-08 11:53:14 2016-03-08 11:53:14           0.0\n",
       "35749  864aad61490bdec6 2016-03-02 01:13:54 2016-03-02 01:13:54           0.0\n",
       "35750  864ade3aa95cbde2 2016-03-08 00:21:34 2016-03-08 00:21:34           0.0\n",
       "35757  865148dfaa60a094 2016-03-02 03:53:08 2016-03-02 03:53:08           0.0\n",
       "35758  865289583d875b8c 2016-03-04 00:18:48 2016-03-04 00:18:48           0.0\n",
       "35759  8652a4d90f79c584 2016-03-01 22:30:12 2016-03-01 22:30:12           0.0\n",
       "35761  8654c15c72474da8 2016-03-08 06:42:25 2016-03-08 06:42:25           0.0\n",
       "35765  865cabf1b32a4c48 2016-03-07 12:29:34 2016-03-07 12:29:34           0.0\n",
       "35770  8662952fc61ea740 2016-03-01 06:11:27 2016-03-01 06:11:27           0.0\n",
       "35772  86633f37fa6b5075 2016-03-04 20:11:49 2016-03-04 20:11:49           0.0\n",
       "35723  8631603f9841e99d 2016-03-08 14:57:38 2016-03-08 14:57:38           0.0\n",
       "35777  86679f0523206510 2016-03-01 22:27:13 2016-03-01 22:27:13           0.0\n",
       "35722  86312f8f7de5dfc4 2016-03-08 08:51:33 2016-03-08 08:51:33           0.0\n",
       "35716  86272e50da18be53 2016-03-04 14:22:11 2016-03-04 14:22:11           0.0\n",
       "35678  85fc6914a92192de 2016-03-03 20:35:32 2016-03-03 20:35:32           0.0\n",
       "35679  85fc69c6cf6ead26 2016-03-02 23:10:44 2016-03-02 23:10:44           0.0\n",
       "35682  85fea23f0fb2c61b 2016-03-08 14:44:48 2016-03-08 14:44:48           0.0\n",
       "35683  85ffaf044d053d54 2016-03-06 19:52:50 2016-03-06 19:52:50           0.0\n",
       "35686  8601c3542f7c1657 2016-03-01 07:23:39 2016-03-01 07:23:39           0.0\n",
       "35688  8606a3c9bb90442f 2016-03-07 10:32:25 2016-03-07 10:32:25           0.0\n",
       "35690  8606e7bd72481b3a 2016-03-08 14:28:02 2016-03-08 14:28:02           0.0\n",
       "35697  86139a8be59c1412 2016-03-02 10:41:16 2016-03-02 10:41:16           0.0\n",
       "35698  8614f160e02b366b 2016-03-01 20:00:17 2016-03-01 20:00:17           0.0\n",
       "35701  8619e3d9ba36534c 2016-03-07 21:49:33 2016-03-07 21:49:33           0.0\n",
       "...                 ...                 ...                 ...           ...\n",
       "8604   2055130eba6b0c5f 2016-03-01 00:30:44 2016-03-01 04:18:37       13673.0\n",
       "23142  571a287b42a8af90 2016-03-02 01:51:58 2016-03-02 06:05:04       15186.0\n",
       "2591   095da46fc1896083 2016-03-03 14:58:04 2016-03-03 19:12:49       15285.0\n",
       "58654  dccd441376e3086a 2016-03-05 00:53:08 2016-03-05 05:29:39       16591.0\n",
       "61967  e965aa3011b7c88c 2016-03-04 20:23:18 2016-03-05 01:06:14       16976.0\n",
       "6531   1870594b9e714f77 2016-03-03 19:12:15 2016-03-04 00:01:39       17364.0\n",
       "49057  b863253d3531f351 2016-03-02 09:00:01 2016-03-02 14:07:08       18427.0\n",
       "13341  32901b0c7cd5c116 2016-03-04 22:11:49 2016-03-05 03:28:47       19018.0\n",
       "42944  a131d1d9e124a227 2016-03-06 13:57:23 2016-03-06 19:51:19       21236.0\n",
       "51335  c0f9ac4ceee5925f 2016-03-02 21:23:34 2016-03-03 03:30:11       21997.0\n",
       "43206  a21fcd8d72e9b6af 2016-03-03 15:39:52 2016-03-03 22:42:44       25372.0\n",
       "27861  693bb2cd9a3e849f 2016-03-03 14:00:48 2016-03-03 21:22:45       26517.0\n",
       "12000  2d6a3921642e1cf5 2016-03-01 07:04:58 2016-03-01 15:22:22       29844.0\n",
       "31210  75e1c65382cfb9ca 2016-03-02 04:52:40 2016-03-02 13:39:00       31580.0\n",
       "352    013481b48dd227b8 2016-03-07 03:17:41 2016-03-07 12:40:06       33745.0\n",
       "57806  d98f7b3957c95650 2016-03-04 00:49:44 2016-03-04 10:14:20       33876.0\n",
       "27254  66a6c223b9eb562f 2016-03-05 02:40:50 2016-03-05 12:19:55       34745.0\n",
       "57045  d690dd38ce7d40d7 2016-03-06 04:56:26 2016-03-06 17:03:01       43595.0\n",
       "50690  be9ed50ae43a4a82 2016-03-02 05:46:44 2016-03-02 18:16:03       44959.0\n",
       "9070   2209172e0afe0659 2016-03-03 03:26:06 2016-03-03 16:08:20       45734.0\n",
       "38241  8f563732ec2c918d 2016-03-03 00:07:47 2016-03-03 13:20:49       47582.0\n",
       "55339  d02fa3ad4d5b3d25 2016-03-02 10:24:41 2016-03-03 00:09:48       49507.0\n",
       "28194  6a7e500bfaee5df8 2016-03-04 01:20:25 2016-03-04 15:13:50       50005.0\n",
       "11588  2bbb451395566f9e 2016-03-06 00:35:14 2016-03-06 15:55:55       55241.0\n",
       "47014  b082906f389d5a2d 2016-03-05 18:55:15 2016-03-06 13:43:16       67681.0\n",
       "38348  8fcf342c98b38c50 2016-03-01 19:37:36 2016-03-02 15:19:35       70919.0\n",
       "1206   04764bf01c6a79dc 2016-03-06 12:06:34 2016-03-07 09:05:03       75509.0\n",
       "56351  d3ec4be515c0f579 2016-03-03 10:55:47 2016-03-04 09:14:00       80293.0\n",
       "60887  e52d0c1117fc07eb 2016-03-03 21:37:54 2016-03-05 13:02:11      141857.0\n",
       "37590  8cf57f4f99f96220 2016-03-02 16:49:05 2016-03-08 13:03:44      504879.0\n",
       "\n",
       "[68028 rows x 4 columns]"
      ]
     },
     "execution_count": 34,
     "metadata": {},
     "output_type": "execute_result"
    }
   ],
   "source": [
    "ml_data=ml_data.sort_values(by='session_time',ascending=True)\n",
    "ml_data"
   ]
  },
  {
   "cell_type": "code",
   "execution_count": 35,
   "metadata": {
    "collapsed": true
   },
   "outputs": [],
   "source": [
    "ml_data=ml_data.tail(10)"
   ]
  },
  {
   "cell_type": "code",
   "execution_count": 36,
   "metadata": {
    "collapsed": false
   },
   "outputs": [
    {
     "data": {
      "image/png": "[encoded data removed]",
      "text/plain": [
       "<matplotlib.figure.Figure at 0x1f5c87562e8>"
      ]
     },
     "metadata": {},
     "output_type": "display_data"
    }
   ],
   "source": [
    "labels=np.array(ml_data['session_id'])\n",
    "values=np.array(ml_data['session_time'])\n",
    "ind=np.arange(len(labels))\n",
    "\n",
    "fig,ax=plt.subplots()\n",
    "rects=ax.bar(ind,values,color='g')\n",
    "ax.set_xticklabels(labels,rotation='vertical')\n",
    "ax.set_xticks(ind)\n",
    "ax.set_ylabel(\"Time in secs\")\n",
    "ax.set_xlabel(\"session_id\")\n",
    "ax.set_title(\"Highest taking sessions\")\n",
    "autolabel(rects)\n",
    "plt.show()"
   ]
  },
  {
   "cell_type": "code",
   "execution_count": null,
   "metadata": {
    "collapsed": true
   },
   "outputs": [],
   "source": []
  }
 ],
 "metadata": {
  "kernelspec": {
   "display_name": "Python 3",
   "language": "python",
   "name": "python3"
  },
  "language_info": {
   "codemirror_mode": {
    "name": "ipython",
    "version": 3
   },
   "file_extension": ".py",
   "mimetype": "text/x-python",
   "name": "python",
   "nbconvert_exporter": "python",
   "pygments_lexer": "ipython3",
   "version": "3.6.0"
  }
 },
 "nbformat": 4,
 "nbformat_minor": 2
}
