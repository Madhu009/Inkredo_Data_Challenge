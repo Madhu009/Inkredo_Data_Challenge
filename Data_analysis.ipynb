{
 "cells": [
  {
   "cell_type": "code",
   "execution_count": 1,
   "metadata": {
    "collapsed": false,
    "scrolled": true
   },
   "outputs": [
    {
     "data": {
      "text/html": [
       "<div>\n",
       "<style>\n",
       "    .dataframe thead tr:only-child th {\n",
       "        text-align: right;\n",
       "    }\n",
       "\n",
       "    .dataframe thead th {\n",
       "        text-align: left;\n",
       "    }\n",
       "\n",
       "    .dataframe tbody tr th {\n",
       "        vertical-align: top;\n",
       "    }\n",
       "</style>\n",
       "<table border=\"1\" class=\"dataframe\">\n",
       "  <thead>\n",
       "    <tr style=\"text-align: right;\">\n",
       "      <th></th>\n",
       "      <th>uuid</th>\n",
       "      <th>timestamp</th>\n",
       "      <th>session_id</th>\n",
       "      <th>group</th>\n",
       "      <th>action</th>\n",
       "      <th>checkin</th>\n",
       "      <th>page_id</th>\n",
       "      <th>n_results</th>\n",
       "      <th>result_position</th>\n",
       "    </tr>\n",
       "  </thead>\n",
       "  <tbody>\n",
       "    <tr>\n",
       "      <th>0</th>\n",
       "      <td>00000736167c507e8ec225bd9e71f9e5</td>\n",
       "      <td>2.016030e+13</td>\n",
       "      <td>78245c2c3fba013a</td>\n",
       "      <td>b</td>\n",
       "      <td>searchResultPage</td>\n",
       "      <td>NaN</td>\n",
       "      <td>cbeb66d1bc1f1bc2</td>\n",
       "      <td>5.0</td>\n",
       "      <td>NaN</td>\n",
       "    </tr>\n",
       "    <tr>\n",
       "      <th>1</th>\n",
       "      <td>00000c69fe345268935463abbfa5d5b3</td>\n",
       "      <td>2.016031e+13</td>\n",
       "      <td>c559c3be98dca8a4</td>\n",
       "      <td>a</td>\n",
       "      <td>searchResultPage</td>\n",
       "      <td>NaN</td>\n",
       "      <td>eb658e8722aad674</td>\n",
       "      <td>10.0</td>\n",
       "      <td>NaN</td>\n",
       "    </tr>\n",
       "    <tr>\n",
       "      <th>2</th>\n",
       "      <td>00003bfdab715ee59077a3670331b787</td>\n",
       "      <td>2.016030e+13</td>\n",
       "      <td>760bf89817ce4b08</td>\n",
       "      <td>a</td>\n",
       "      <td>checkin</td>\n",
       "      <td>30.0</td>\n",
       "      <td>f99a9fc1f7fdd21e</td>\n",
       "      <td>NaN</td>\n",
       "      <td>NaN</td>\n",
       "    </tr>\n",
       "    <tr>\n",
       "      <th>3</th>\n",
       "      <td>0000465cd7c35ad2bdeafec953e08c1a</td>\n",
       "      <td>2.016030e+13</td>\n",
       "      <td>fb905603d31b2071</td>\n",
       "      <td>a</td>\n",
       "      <td>checkin</td>\n",
       "      <td>60.0</td>\n",
       "      <td>e5626962a6939a75</td>\n",
       "      <td>NaN</td>\n",
       "      <td>10.0</td>\n",
       "    </tr>\n",
       "    <tr>\n",
       "      <th>4</th>\n",
       "      <td>000050cbb4ef5b42b16c4d2cf69e6358</td>\n",
       "      <td>2.016030e+13</td>\n",
       "      <td>c2bf5e5172a892dc</td>\n",
       "      <td>a</td>\n",
       "      <td>checkin</td>\n",
       "      <td>30.0</td>\n",
       "      <td>787dd6a4c371cbf9</td>\n",
       "      <td>NaN</td>\n",
       "      <td>NaN</td>\n",
       "    </tr>\n",
       "  </tbody>\n",
       "</table>\n",
       "</div>"
      ],
      "text/plain": [
       "                               uuid     timestamp        session_id group  \\\n",
       "0  00000736167c507e8ec225bd9e71f9e5  2.016030e+13  78245c2c3fba013a     b   \n",
       "1  00000c69fe345268935463abbfa5d5b3  2.016031e+13  c559c3be98dca8a4     a   \n",
       "2  00003bfdab715ee59077a3670331b787  2.016030e+13  760bf89817ce4b08     a   \n",
       "3  0000465cd7c35ad2bdeafec953e08c1a  2.016030e+13  fb905603d31b2071     a   \n",
       "4  000050cbb4ef5b42b16c4d2cf69e6358  2.016030e+13  c2bf5e5172a892dc     a   \n",
       "\n",
       "             action  checkin           page_id  n_results  result_position  \n",
       "0  searchResultPage      NaN  cbeb66d1bc1f1bc2        5.0              NaN  \n",
       "1  searchResultPage      NaN  eb658e8722aad674       10.0              NaN  \n",
       "2           checkin     30.0  f99a9fc1f7fdd21e        NaN              NaN  \n",
       "3           checkin     60.0  e5626962a6939a75        NaN             10.0  \n",
       "4           checkin     30.0  787dd6a4c371cbf9        NaN              NaN  "
      ]
     },
     "execution_count": 1,
     "metadata": {},
     "output_type": "execute_result"
    }
   ],
   "source": [
    "# loading the data \n",
    "\n",
    "import pandas as pd\n",
    "import matplotlib.pyplot as plt\n",
    "import seaborn as sns\n",
    "\n",
    "data =pd.read_csv('events_log.csv')\n",
    "data.head()"
   ]
  },
  {
   "cell_type": "code",
   "execution_count": 2,
   "metadata": {
    "collapsed": false
   },
   "outputs": [
    {
     "data": {
      "text/plain": [
       "0   2016-03-01 10:38:42\n",
       "1   2016-03-07 00:52:26\n",
       "2   2016-03-02 14:53:05\n",
       "3   2016-03-02 22:27:01\n",
       "Name: timestamp, dtype: datetime64[ns]"
      ]
     },
     "execution_count": 2,
     "metadata": {},
     "output_type": "execute_result"
    }
   ],
   "source": [
    "#Coverting the timestamp to panda datetime\n",
    "data['timestamp'] = data['timestamp'].apply(lambda x: '{:.2f}'.format(x))\n",
    "data.timestamp = pd.Series(data.timestamp).str.replace(r'\\.00', '').str.strip()\n",
    "data['timestamp']=pd.to_datetime(data['timestamp'])\n",
    "data.timestamp[:4]"
   ]
  },
  {
   "cell_type": "code",
   "execution_count": 3,
   "metadata": {
    "collapsed": true
   },
   "outputs": [],
   "source": [
    "# for labeling in plotting\n",
    "def autolabel(rects):\n",
    "    for rect in rects:\n",
    "        height = rect.get_height()\n",
    "        ax.text(rect.get_x() + rect.get_width()/2., 1.02*height,\n",
    "                '%d' % int(height),\n",
    "                ha='center', va='bottom')"
   ]
  },
  {
   "cell_type": "markdown",
   "metadata": {},
   "source": [
    "### Which results do people tend to try first"
   ]
  },
  {
   "cell_type": "code",
   "execution_count": 4,
   "metadata": {
    "collapsed": false
   },
   "outputs": [
    {
     "data": {
      "image/png": "[encoded data removed]",
      "text/plain": [
       "<matplotlib.figure.Figure at 0x277f98d6fd0>"
      ]
     },
     "metadata": {},
     "output_type": "display_data"
    }
   ],
   "source": [
    "#getting most count result position plotting\n",
    "import numpy as np\n",
    "rp=data.result_position.value_counts()[:5]\n",
    "labels=np.array(rp.keys())\n",
    "values=np.array(rp)\n",
    "ind=np.arange(len(labels))\n",
    "\n",
    "fig,ax=plt.subplots()\n",
    "rects=ax.bar(ind,values,color='g')\n",
    "ax.set_xticklabels(labels,rotation='vertical')\n",
    "ax.set_xticks(ind)\n",
    "ax.set_ylabel(\"Count\")\n",
    "ax.set_title(\"Top Results viewed at index \")\n",
    "autolabel(rects)\n",
    "plt.show()"
   ]
  },
  {
   "cell_type": "code",
   "execution_count": 5,
   "metadata": {
    "collapsed": false
   },
   "outputs": [
    {
     "name": "stdout",
     "output_type": "stream",
     "text": [
      "ffeae9d12ad83b25    24\n",
      "5776ccc6144ff777    20\n",
      "6151bd29e99dae15    19\n",
      "6ea77e97a39691d2    19\n",
      "c615cd435873eb74    17\n",
      "Name: page_id, dtype: int64\n"
     ]
    },
    {
     "data": {
      "image/png": "[encoded data removed]",
      "text/plain": [
       "<matplotlib.figure.Figure at 0x27783355f28>"
      ]
     },
     "metadata": {},
     "output_type": "display_data"
    }
   ],
   "source": [
    "#top pages viewed at index 1\n",
    "index1_pages=data.loc[data['result_position'] == 1]\n",
    "\n",
    "tp=index1_pages.page_id.value_counts()[:5]\n",
    "print(tp)\n",
    "labels=np.array(tp.keys())\n",
    "values=np.array(tp)\n",
    "ind=np.arange(len(labels))\n",
    "\n",
    "fig,ax=plt.subplots()\n",
    "rects=ax.bar(ind,values,color='g')\n",
    "ax.set_xticklabels(labels,rotation='vertical')\n",
    "ax.set_xticks(ind)\n",
    "ax.set_ylabel(\"Count\")\n",
    "ax.set_title(\"Top pages viewed at index 1\")\n",
    "autolabel(rects)\n",
    "plt.show()"
   ]
  },
  {
   "cell_type": "markdown",
   "metadata": {},
   "source": [
    "People tend to try first these pages "
   ]
  },
  {
   "cell_type": "markdown",
   "metadata": {},
   "source": [
    "### How does it change day-to-day"
   ]
  },
  {
   "cell_type": "code",
   "execution_count": 6,
   "metadata": {
    "collapsed": false
   },
   "outputs": [
    {
     "data": {
      "text/plain": [
       "8    2016-03-03 11:32:55\n",
       "9    2016-03-03 22:33:53\n",
       "11   2016-03-03 13:38:18\n",
       "13   2016-03-08 17:26:37\n",
       "14   2016-03-01 15:45:25\n",
       "Name: timestamp, dtype: datetime64[ns]"
      ]
     },
     "execution_count": 6,
     "metadata": {},
     "output_type": "execute_result"
    }
   ],
   "source": [
    "index1_pages.timestamp[:5]"
   ]
  },
  {
   "cell_type": "code",
   "execution_count": 10,
   "metadata": {
    "collapsed": false
   },
   "outputs": [
    {
     "data": {
      "text/plain": [
       "[1, 2, 3, 4, 5, 6, 7, 8]"
      ]
     },
     "execution_count": 10,
     "metadata": {},
     "output_type": "execute_result"
    }
   ],
   "source": [
    "days=sorted(index1_pages.timestamp.dt.day.unique())\n",
    "days"
   ]
  },
  {
   "cell_type": "markdown",
   "metadata": {},
   "source": [
    "So we can say from day 1 to day 8 ,people access the more pages which are at index 1 (result position 1 being top count)"
   ]
  },
  {
   "cell_type": "code",
   "execution_count": 11,
   "metadata": {
    "collapsed": false
   },
   "outputs": [
    {
     "name": "stdout",
     "output_type": "stream",
     "text": [
      "[1, 2, 3, 4, 5, 6, 7, 8]\n",
      "[18880, 19535, 20508, 19230, 14780, 17004, 21392, 18025]\n"
     ]
    },
    {
     "data": {
      "image/png": "[encoded data removed]",
      "text/plain": [
       "<matplotlib.figure.Figure at 0x27781e6de48>"
      ]
     },
     "metadata": {},
     "output_type": "display_data"
    }
   ],
   "source": [
    "#plotting\n",
    "\n",
    "days_array=[]\n",
    "for day in days:\n",
    "    d=[day]\n",
    "    days_hits=index1_pages.loc[index1_pages.timestamp.dt.day == day]\n",
    "    d.append(days_hits.result_position.value_counts())\n",
    "    days_array.append(d)\n",
    "labels=[]\n",
    "values=[]\n",
    "for i in days_array:\n",
    "    labels.append(i[0])\n",
    "    values.append(i[1][1])\n",
    "print(labels)\n",
    "print(values)\n",
    "\n",
    "labels=np.array(labels)\n",
    "values=np.array(values)\n",
    "ind=np.arange(len(labels))\n",
    "\n",
    "fig,ax=plt.subplots()\n",
    "rects=ax.bar(ind,values,color='g')\n",
    "ax.set_xticklabels(labels)\n",
    "ax.set_xticks(ind)\n",
    "ax.set_ylabel(\"Count\")\n",
    "ax.set_xlabel(\"Days\")\n",
    "autolabel(rects)\n",
    "plt.show()"
   ]
  },
  {
   "cell_type": "markdown",
   "metadata": {},
   "source": [
    "So we can see here everyday how many people visit the pages at index 1 (result pages)\n",
    "it goes high and low \n",
    "\n",
    "Applicable for 2016-03 "
   ]
  },
  {
   "cell_type": "markdown",
   "metadata": {},
   "source": [
    "### What is their daily overall zero results rate? "
   ]
  },
  {
   "cell_type": "markdown",
   "metadata": {},
   "source": [
    "if no of pages returned none for user which means zero results \n",
    "\n",
    "what are total zero results and everyday's results"
   ]
  },
  {
   "cell_type": "code",
   "execution_count": 12,
   "metadata": {
    "collapsed": false
   },
   "outputs": [
    {
     "data": {
      "text/plain": [
       "18.4440007633924"
      ]
     },
     "execution_count": 12,
     "metadata": {},
     "output_type": "execute_result"
    }
   ],
   "source": [
    "zero_results=data.loc[data['n_results'] == 0]\n",
    "total_search_result=data.loc[data['action'] == 'searchResultPage']\n",
    "(len(zero_results)/len(total_search_result))*100"
   ]
  },
  {
   "cell_type": "markdown",
   "metadata": {},
   "source": [
    "18.4% of total results are zero results "
   ]
  },
  {
   "cell_type": "code",
   "execution_count": 13,
   "metadata": {
    "collapsed": false
   },
   "outputs": [
    {
     "data": {
      "text/html": [
       "<div>\n",
       "<style>\n",
       "    .dataframe thead tr:only-child th {\n",
       "        text-align: right;\n",
       "    }\n",
       "\n",
       "    .dataframe thead th {\n",
       "        text-align: left;\n",
       "    }\n",
       "\n",
       "    .dataframe tbody tr th {\n",
       "        vertical-align: top;\n",
       "    }\n",
       "</style>\n",
       "<table border=\"1\" class=\"dataframe\">\n",
       "  <thead>\n",
       "    <tr style=\"text-align: right;\">\n",
       "      <th></th>\n",
       "      <th>uuid</th>\n",
       "      <th>timestamp</th>\n",
       "      <th>session_id</th>\n",
       "      <th>group</th>\n",
       "      <th>action</th>\n",
       "      <th>checkin</th>\n",
       "      <th>page_id</th>\n",
       "      <th>n_results</th>\n",
       "      <th>result_position</th>\n",
       "    </tr>\n",
       "  </thead>\n",
       "  <tbody>\n",
       "    <tr>\n",
       "      <th>34</th>\n",
       "      <td>00055f9db0095e33a27c405a460e2938</td>\n",
       "      <td>2016-03-04 00:56:24</td>\n",
       "      <td>4ca63ff30146a5bd</td>\n",
       "      <td>b</td>\n",
       "      <td>searchResultPage</td>\n",
       "      <td>NaN</td>\n",
       "      <td>fc1c434d8de2a692</td>\n",
       "      <td>0.0</td>\n",
       "      <td>NaN</td>\n",
       "    </tr>\n",
       "    <tr>\n",
       "      <th>48</th>\n",
       "      <td>00077de1ae4650af82f34c146e4ad905</td>\n",
       "      <td>2016-03-01 09:45:13</td>\n",
       "      <td>96539ff273a06ee7</td>\n",
       "      <td>a</td>\n",
       "      <td>searchResultPage</td>\n",
       "      <td>NaN</td>\n",
       "      <td>bdfe82e8a1676718</td>\n",
       "      <td>0.0</td>\n",
       "      <td>NaN</td>\n",
       "    </tr>\n",
       "    <tr>\n",
       "      <th>60</th>\n",
       "      <td>0008b8cb47175ed5b6f46fde5c5698e4</td>\n",
       "      <td>2016-03-01 15:23:18</td>\n",
       "      <td>83c8b548d93c6ffa</td>\n",
       "      <td>a</td>\n",
       "      <td>searchResultPage</td>\n",
       "      <td>NaN</td>\n",
       "      <td>c742d873e7b0ac9c</td>\n",
       "      <td>0.0</td>\n",
       "      <td>NaN</td>\n",
       "    </tr>\n",
       "    <tr>\n",
       "      <th>65</th>\n",
       "      <td>0009cf4511fd52ab81a3f5c49a0f61dd</td>\n",
       "      <td>2016-03-06 19:52:50</td>\n",
       "      <td>85ffaf044d053d54</td>\n",
       "      <td>b</td>\n",
       "      <td>searchResultPage</td>\n",
       "      <td>NaN</td>\n",
       "      <td>ee21bb97d7f6e768</td>\n",
       "      <td>0.0</td>\n",
       "      <td>NaN</td>\n",
       "    </tr>\n",
       "    <tr>\n",
       "      <th>68</th>\n",
       "      <td>000a27b148835834849a81f4fddab30b</td>\n",
       "      <td>2016-03-02 12:04:09</td>\n",
       "      <td>305bb9447d8679ee</td>\n",
       "      <td>a</td>\n",
       "      <td>searchResultPage</td>\n",
       "      <td>NaN</td>\n",
       "      <td>77a573f9e4110fab</td>\n",
       "      <td>0.0</td>\n",
       "      <td>NaN</td>\n",
       "    </tr>\n",
       "  </tbody>\n",
       "</table>\n",
       "</div>"
      ],
      "text/plain": [
       "                                uuid           timestamp        session_id  \\\n",
       "34  00055f9db0095e33a27c405a460e2938 2016-03-04 00:56:24  4ca63ff30146a5bd   \n",
       "48  00077de1ae4650af82f34c146e4ad905 2016-03-01 09:45:13  96539ff273a06ee7   \n",
       "60  0008b8cb47175ed5b6f46fde5c5698e4 2016-03-01 15:23:18  83c8b548d93c6ffa   \n",
       "65  0009cf4511fd52ab81a3f5c49a0f61dd 2016-03-06 19:52:50  85ffaf044d053d54   \n",
       "68  000a27b148835834849a81f4fddab30b 2016-03-02 12:04:09  305bb9447d8679ee   \n",
       "\n",
       "   group            action  checkin           page_id  n_results  \\\n",
       "34     b  searchResultPage      NaN  fc1c434d8de2a692        0.0   \n",
       "48     a  searchResultPage      NaN  bdfe82e8a1676718        0.0   \n",
       "60     a  searchResultPage      NaN  c742d873e7b0ac9c        0.0   \n",
       "65     b  searchResultPage      NaN  ee21bb97d7f6e768        0.0   \n",
       "68     a  searchResultPage      NaN  77a573f9e4110fab        0.0   \n",
       "\n",
       "    result_position  \n",
       "34              NaN  \n",
       "48              NaN  \n",
       "60              NaN  \n",
       "65              NaN  \n",
       "68              NaN  "
      ]
     },
     "execution_count": 13,
     "metadata": {},
     "output_type": "execute_result"
    }
   ],
   "source": [
    "zero_results[:5]"
   ]
  },
  {
   "cell_type": "code",
   "execution_count": 14,
   "metadata": {
    "collapsed": false
   },
   "outputs": [
    {
     "data": {
      "text/plain": [
       "[1, 2, 3, 4, 5, 6, 7, 8]"
      ]
     },
     "execution_count": 14,
     "metadata": {},
     "output_type": "execute_result"
    }
   ],
   "source": [
    "days=sorted(zero_results.timestamp.dt.day.unique())\n",
    "days"
   ]
  },
  {
   "cell_type": "code",
   "execution_count": 15,
   "metadata": {
    "collapsed": false
   },
   "outputs": [
    {
     "name": "stdout",
     "output_type": "stream",
     "text": [
      "[1, 2, 3, 4, 5, 6, 7, 8]\n",
      "[0.0    3447\n",
      "Name: n_results, dtype: int64, 0.0    3589\n",
      "Name: n_results, dtype: int64, 0.0    3443\n",
      "Name: n_results, dtype: int64, 0.0    3015\n",
      "Name: n_results, dtype: int64, 0.0    2442\n",
      "Name: n_results, dtype: int64, 0.0    2574\n",
      "Name: n_results, dtype: int64, 0.0    3460\n",
      "Name: n_results, dtype: int64, 0.0    3157\n",
      "Name: n_results, dtype: int64]\n"
     ]
    },
    {
     "data": {
      "image/png": "[encoded data removed]",
      "text/plain": [
       "<matplotlib.figure.Figure at 0x27781d48550>"
      ]
     },
     "metadata": {},
     "output_type": "display_data"
    }
   ],
   "source": [
    "days_array=[]\n",
    "for day in days:\n",
    "    d=[day]\n",
    "    days_zero_results=zero_results.loc[zero_results.timestamp.dt.day == day]\n",
    "    d.append(days_zero_results.n_results.value_counts())\n",
    "    days_array.append(d)\n",
    "    \n",
    "labels=[]\n",
    "values=[]\n",
    "for i in days_array:\n",
    "    labels.append(i[0])\n",
    "    values.append(i[1])\n",
    "print(labels)\n",
    "print(values)\n",
    "\n",
    "labels=np.array(labels)\n",
    "values=np.array(values)\n",
    "ind=np.arange(len(labels))\n",
    "\n",
    "fig,ax=plt.subplots()\n",
    "rects=ax.bar(ind,values,color='g')\n",
    "ax.set_xticklabels(labels)\n",
    "ax.set_xticks(ind)\n",
    "ax.set_ylabel(\"Count\")\n",
    "ax.set_xlabel(\"Days\")\n",
    "ax.set_title(\"zero results count\")\n",
    "autolabel(rects)\n",
    "plt.show()"
   ]
  },
  {
   "cell_type": "markdown",
   "metadata": {},
   "source": [
    "Total Zero results are 25127 and indvidual days results are above"
   ]
  },
  {
   "cell_type": "markdown",
   "metadata": {},
   "source": [
    "### How does it vary between the groups?"
   ]
  },
  {
   "cell_type": "code",
   "execution_count": 16,
   "metadata": {
    "collapsed": false
   },
   "outputs": [
    {
     "data": {
      "text/plain": [
       "['a', 'b']"
      ]
     },
     "execution_count": 16,
     "metadata": {},
     "output_type": "execute_result"
    }
   ],
   "source": [
    "groups=sorted(zero_results.group.unique())\n",
    "groups"
   ]
  },
  {
   "cell_type": "code",
   "execution_count": 17,
   "metadata": {
    "collapsed": false
   },
   "outputs": [
    {
     "name": "stdout",
     "output_type": "stream",
     "text": [
      "['a', 'b']\n",
      "[a    16902\n",
      "Name: group, dtype: int64, b    8225\n",
      "Name: group, dtype: int64]\n"
     ]
    },
    {
     "data": {
      "image/png": "[encoded data removed]",
      "text/plain": [
       "<matplotlib.figure.Figure at 0x277826ac860>"
      ]
     },
     "metadata": {},
     "output_type": "display_data"
    }
   ],
   "source": [
    "groups_array=[]\n",
    "for grp in groups:\n",
    "    d=[grp]\n",
    "    group_results=zero_results.loc[zero_results.group == grp]\n",
    "    d.append(group_results.group.value_counts())\n",
    "    groups_array.append(d)\n",
    "    \n",
    "labels=[]\n",
    "values=[]\n",
    "for i in groups_array:\n",
    "    labels.append(i[0])\n",
    "    values.append(i[1])\n",
    "print(labels)\n",
    "print(values)\n",
    "\n",
    "labels=np.array(labels)\n",
    "values=np.array(values)\n",
    "ind=np.arange(len(labels))\n",
    "\n",
    "fig,ax=plt.subplots()\n",
    "rects=ax.bar(ind,values,color='g')\n",
    "ax.set_xticklabels(labels)\n",
    "ax.set_xticks(ind)\n",
    "ax.set_ylabel(\"Count\")\n",
    "ax.set_xlabel(\"groups\")\n",
    "ax.set_title(\"zero results count\")\n",
    "autolabel(rects)\n",
    "plt.show()"
   ]
  },
  {
   "cell_type": "markdown",
   "metadata": {},
   "source": [
    "### What is their daily overall clickthrough rate?"
   ]
  },
  {
   "cell_type": "code",
   "execution_count": 18,
   "metadata": {
    "collapsed": false
   },
   "outputs": [
    {
     "data": {
      "text/plain": [
       "['checkin', 'searchResultPage', 'visitPage']"
      ]
     },
     "execution_count": 18,
     "metadata": {},
     "output_type": "execute_result"
    }
   ],
   "source": [
    "actions=sorted(data.action.unique())\n",
    "actions"
   ]
  },
  {
   "cell_type": "code",
   "execution_count": 19,
   "metadata": {
    "collapsed": false
   },
   "outputs": [
    {
     "name": "stdout",
     "output_type": "stream",
     "text": [
      "['checkin', 'searchResultPage', 'visitPage']\n",
      "[checkin    223824\n",
      "Name: action, dtype: int64, searchResultPage    136234\n",
      "Name: action, dtype: int64, visitPage    40107\n",
      "Name: action, dtype: int64]\n"
     ]
    },
    {
     "data": {
      "image/png": "[encoded data removed]",
      "text/plain": [
       "<matplotlib.figure.Figure at 0x27781db8dd8>"
      ]
     },
     "metadata": {},
     "output_type": "display_data"
    }
   ],
   "source": [
    "actions_array=[]\n",
    "for act in actions:\n",
    "    d=[act]\n",
    "    action_results=data.loc[data.action == act]\n",
    "    d.append(action_results.action.value_counts())\n",
    "    actions_array.append(d)\n",
    "    \n",
    "labels=[]\n",
    "values=[]\n",
    "for i in actions_array:\n",
    "    labels.append(i[0])\n",
    "    values.append(i[1])\n",
    "print(labels)\n",
    "print(values)\n",
    "\n",
    "labels=np.array(labels)\n",
    "values=np.array(values)\n",
    "ind=np.arange(len(labels))\n",
    "\n",
    "fig,ax=plt.subplots()\n",
    "rects=ax.bar(ind,values,color='g')\n",
    "ax.set_xticklabels(labels)\n",
    "ax.set_xticks(ind)\n",
    "ax.set_ylabel(\"Count\")\n",
    "ax.set_xlabel(\"actions\")\n",
    "autolabel(rects)\n",
    "plt.show()"
   ]
  },
  {
   "cell_type": "markdown",
   "metadata": {},
   "source": [
    "A total of 136234 times pages appeared and 40107 times users visited"
   ]
  },
  {
   "cell_type": "code",
   "execution_count": 24,
   "metadata": {
    "collapsed": false
   },
   "outputs": [
    {
     "data": {
      "text/plain": [
       "36.097635612517664"
      ]
     },
     "execution_count": 24,
     "metadata": {},
     "output_type": "execute_result"
    }
   ],
   "source": [
    "total_visit_result=data.loc[data['action'] == 'visitPage']\n",
    "total_search_result=data.loc[data['action'] == 'searchResultPage']\n",
    "\n",
    "#what if we get n_results for page is 0 \n",
    "total_search_result=total_search_result.loc[total_search_result['n_results']!=0]\n",
    "(len(total_visit_result)/len(total_search_result))*100"
   ]
  },
  {
   "cell_type": "markdown",
   "metadata": {},
   "source": [
    "36.9% percentage of total search results are visited page results"
   ]
  },
  {
   "cell_type": "code",
   "execution_count": 25,
   "metadata": {
    "collapsed": false
   },
   "outputs": [
    {
     "name": "stdout",
     "output_type": "stream",
     "text": [
      "[1, 2, 3, 4, 5, 6, 7, 8]\n",
      "[visitPage    6654\n",
      "Name: action, dtype: int64, visitPage    6692\n",
      "Name: action, dtype: int64, visitPage    6574\n",
      "Name: action, dtype: int64, visitPage    4294\n",
      "Name: action, dtype: int64, visitPage    3323\n",
      "Name: action, dtype: int64, visitPage    3758\n",
      "Name: action, dtype: int64, visitPage    4714\n",
      "Name: action, dtype: int64, visitPage    4098\n",
      "Name: action, dtype: int64]\n"
     ]
    },
    {
     "data": {
      "image/png": "[encoded data removed]",
      "text/plain": [
       "<matplotlib.figure.Figure at 0x277828b20f0>"
      ]
     },
     "metadata": {},
     "output_type": "display_data"
    }
   ],
   "source": [
    "days=sorted(total_visit_result.timestamp.dt.day.unique())\n",
    "days_array=[]\n",
    "for day in days:\n",
    "    d=[day]\n",
    "    days_visited_results=total_visit_result.loc[total_visit_result.timestamp.dt.day == day]\n",
    "    d.append(days_visited_results.action.value_counts())\n",
    "    days_array.append(d)\n",
    "    \n",
    "labels=[]\n",
    "values=[]\n",
    "for i in days_array:\n",
    "    labels.append(i[0])\n",
    "    values.append(i[1])\n",
    "print(labels)\n",
    "print(values)\n",
    "\n",
    "labels=np.array(labels)\n",
    "values=np.array(values)\n",
    "ind=np.arange(len(labels))\n",
    "\n",
    "fig,ax=plt.subplots()\n",
    "rects=ax.bar(ind,values,color='g')\n",
    "ax.set_xticklabels(labels)\n",
    "ax.set_xticks(ind)\n",
    "ax.set_ylabel(\"Count\")\n",
    "ax.set_xlabel(\"Days\")\n",
    "ax.set_title(\"visited results count\")\n",
    "autolabel(rects)\n",
    "plt.show()"
   ]
  },
  {
   "cell_type": "markdown",
   "metadata": {},
   "source": [
    "### How does it vary between the groups?"
   ]
  },
  {
   "cell_type": "code",
   "execution_count": 26,
   "metadata": {
    "collapsed": false
   },
   "outputs": [
    {
     "name": "stdout",
     "output_type": "stream",
     "text": [
      "['a', 'b']\n",
      "[a    33265\n",
      "Name: group, dtype: int64, b    6842\n",
      "Name: group, dtype: int64]\n"
     ]
    },
    {
     "data": {
      "image/png": "[encoded data removed]",
      "text/plain": [
       "<matplotlib.figure.Figure at 0x277825f04e0>"
      ]
     },
     "metadata": {},
     "output_type": "display_data"
    }
   ],
   "source": [
    "groups_array=[]\n",
    "for grp in groups:\n",
    "    d=[grp]\n",
    "    group_results=total_visit_result.loc[total_visit_result.group == grp]\n",
    "    d.append(group_results.group.value_counts())\n",
    "    groups_array.append(d)\n",
    "    \n",
    "labels=[]\n",
    "values=[]\n",
    "for i in groups_array:\n",
    "    labels.append(i[0])\n",
    "    values.append(i[1])\n",
    "print(labels)\n",
    "print(values)\n",
    "\n",
    "labels=np.array(labels)\n",
    "values=np.array(values)\n",
    "ind=np.arange(len(labels))\n",
    "\n",
    "fig,ax=plt.subplots()\n",
    "rects=ax.bar(ind,values,color='g')\n",
    "ax.set_xticklabels(labels)\n",
    "ax.set_xticks(ind)\n",
    "ax.set_ylabel(\"Count\")\n",
    "ax.set_xlabel(\"groups\")\n",
    "ax.set_title(\"visited results count\")\n",
    "autolabel(rects)\n",
    "plt.show()"
   ]
  },
  {
   "cell_type": "markdown",
   "metadata": {},
   "source": [
    "total of  visited results = 40107 "
   ]
  },
  {
   "cell_type": "code",
   "execution_count": null,
   "metadata": {
    "collapsed": true
   },
   "outputs": [],
   "source": []
  }
 ],
 "metadata": {
  "kernelspec": {
   "display_name": "Python 3",
   "language": "python",
   "name": "python3"
  },
  "language_info": {
   "codemirror_mode": {
    "name": "ipython",
    "version": 3
   },
   "file_extension": ".py",
   "mimetype": "text/x-python",
   "name": "python",
   "nbconvert_exporter": "python",
   "pygments_lexer": "ipython3",
   "version": "3.6.0"
  }
 },
 "nbformat": 4,
 "nbformat_minor": 2
}
